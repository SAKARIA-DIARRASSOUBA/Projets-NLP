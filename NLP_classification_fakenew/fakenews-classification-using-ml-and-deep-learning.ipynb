{
 "cells": [
  {
   "cell_type": "markdown",
   "metadata": {},
   "source": [
    "# NLP : Classifiaction des fake news via les ML et Deep learning\n",
    "L'objetif est de construire un système d'apprentissage pour identifier les articles de presse non fiables. Il s'agit ici d'un problème NLP où la tâche est de classifier les Fake News dans un article. Ce notebook est composé de différentes étapes nécessaires:\n",
    "- identification des fakes news\n",
    "- le prétraitement des données  \n",
    "- l'expérimentation du modèle et l'évaluation des résultats."
   ]
  },
  {
   "cell_type": "code",
   "execution_count": 143,
   "metadata": {
    "execution": {
     "iopub.execute_input": "2021-04-24T06:09:26.726536Z",
     "iopub.status.busy": "2021-04-24T06:09:26.724851Z",
     "iopub.status.idle": "2021-04-24T06:09:34.346956Z",
     "shell.execute_reply": "2021-04-24T06:09:34.346205Z"
    },
    "papermill": {
     "duration": 7.65274,
     "end_time": "2021-04-24T06:09:34.347142",
     "exception": false,
     "start_time": "2021-04-24T06:09:26.694402",
     "status": "completed"
    },
    "tags": []
   },
   "outputs": [
    {
     "name": "stderr",
     "output_type": "stream",
     "text": [
      "[nltk_data] Downloading package stopwords to /Users/vw12/nltk_data...\n",
      "[nltk_data]   Package stopwords is already up-to-date!\n"
     ]
    }
   ],
   "source": [
    "# Importing Libraries\n",
    "import pandas as pd\n",
    "import numpy as np\n",
    "import nltk\n",
    "import re\n",
    "from nltk.corpus import stopwords\n",
    "nltk.download('stopwords')\n",
    "from tensorflow import keras\n",
    "from keras import models    \n",
    "\n",
    "from tensorflow.keras.layers import Embedding,Dropout\n",
    "from tensorflow.keras.preprocessing.sequence import pad_sequences\n",
    "from tensorflow.keras.models import Sequential\n",
    "from tensorflow.keras.preprocessing.text import one_hot\n",
    "from tensorflow.keras.layers import LSTM,Bidirectional,GRU\n",
    "from tensorflow.keras.layers import Dense\n",
    "from sklearn.metrics import classification_report,accuracy_score\n",
    "from sklearn.linear_model import LogisticRegression\n",
    "from sklearn.tree import DecisionTreeClassifier\n",
    "from sklearn.ensemble import RandomForestClassifier\n",
    "from xgboost import XGBClassifier\n",
    "from catboost import CatBoostClassifier\n",
    "from sklearn.linear_model import LogisticRegression\n",
    "from sklearn.naive_bayes import MultinomialNB\n",
    "from sklearn.svm import LinearSVC"
   ]
  },
  {
   "cell_type": "code",
   "execution_count": 92,
   "metadata": {
    "execution": {
     "iopub.execute_input": "2021-04-24T06:09:34.410517Z",
     "iopub.status.busy": "2021-04-24T06:09:34.409817Z",
     "iopub.status.idle": "2021-04-24T06:09:36.957933Z",
     "shell.execute_reply": "2021-04-24T06:09:36.956892Z"
    },
    "papermill": {
     "duration": 2.582685,
     "end_time": "2021-04-24T06:09:36.958105",
     "exception": false,
     "start_time": "2021-04-24T06:09:34.375420",
     "status": "completed"
    },
    "tags": []
   },
   "outputs": [
    {
     "data": {
      "text/html": [
       "<div>\n",
       "<style scoped>\n",
       "    .dataframe tbody tr th:only-of-type {\n",
       "        vertical-align: middle;\n",
       "    }\n",
       "\n",
       "    .dataframe tbody tr th {\n",
       "        vertical-align: top;\n",
       "    }\n",
       "\n",
       "    .dataframe thead th {\n",
       "        text-align: right;\n",
       "    }\n",
       "</style>\n",
       "<table border=\"1\" class=\"dataframe\">\n",
       "  <thead>\n",
       "    <tr style=\"text-align: right;\">\n",
       "      <th></th>\n",
       "      <th>id</th>\n",
       "      <th>title</th>\n",
       "      <th>author</th>\n",
       "      <th>text</th>\n",
       "      <th>label</th>\n",
       "    </tr>\n",
       "  </thead>\n",
       "  <tbody>\n",
       "    <tr>\n",
       "      <th>0</th>\n",
       "      <td>0</td>\n",
       "      <td>House Dem Aide: We Didn’t Even See Comey’s Let...</td>\n",
       "      <td>Darrell Lucus</td>\n",
       "      <td>House Dem Aide: We Didn’t Even See Comey’s Let...</td>\n",
       "      <td>1</td>\n",
       "    </tr>\n",
       "    <tr>\n",
       "      <th>1</th>\n",
       "      <td>1</td>\n",
       "      <td>FLYNN: Hillary Clinton, Big Woman on Campus - ...</td>\n",
       "      <td>Daniel J. Flynn</td>\n",
       "      <td>Ever get the feeling your life circles the rou...</td>\n",
       "      <td>0</td>\n",
       "    </tr>\n",
       "    <tr>\n",
       "      <th>2</th>\n",
       "      <td>2</td>\n",
       "      <td>Why the Truth Might Get You Fired</td>\n",
       "      <td>Consortiumnews.com</td>\n",
       "      <td>Why the Truth Might Get You Fired October 29, ...</td>\n",
       "      <td>1</td>\n",
       "    </tr>\n",
       "    <tr>\n",
       "      <th>3</th>\n",
       "      <td>3</td>\n",
       "      <td>15 Civilians Killed In Single US Airstrike Hav...</td>\n",
       "      <td>Jessica Purkiss</td>\n",
       "      <td>Videos 15 Civilians Killed In Single US Airstr...</td>\n",
       "      <td>1</td>\n",
       "    </tr>\n",
       "    <tr>\n",
       "      <th>4</th>\n",
       "      <td>4</td>\n",
       "      <td>Iranian woman jailed for fictional unpublished...</td>\n",
       "      <td>Howard Portnoy</td>\n",
       "      <td>Print \\nAn Iranian woman has been sentenced to...</td>\n",
       "      <td>1</td>\n",
       "    </tr>\n",
       "  </tbody>\n",
       "</table>\n",
       "</div>"
      ],
      "text/plain": [
       "   id                                              title              author  \\\n",
       "0   0  House Dem Aide: We Didn’t Even See Comey’s Let...       Darrell Lucus   \n",
       "1   1  FLYNN: Hillary Clinton, Big Woman on Campus - ...     Daniel J. Flynn   \n",
       "2   2                  Why the Truth Might Get You Fired  Consortiumnews.com   \n",
       "3   3  15 Civilians Killed In Single US Airstrike Hav...     Jessica Purkiss   \n",
       "4   4  Iranian woman jailed for fictional unpublished...      Howard Portnoy   \n",
       "\n",
       "                                                text  label  \n",
       "0  House Dem Aide: We Didn’t Even See Comey’s Let...      1  \n",
       "1  Ever get the feeling your life circles the rou...      0  \n",
       "2  Why the Truth Might Get You Fired October 29, ...      1  \n",
       "3  Videos 15 Civilians Killed In Single US Airstr...      1  \n",
       "4  Print \\nAn Iranian woman has been sentenced to...      1  "
      ]
     },
     "execution_count": 92,
     "metadata": {},
     "output_type": "execute_result"
    }
   ],
   "source": [
    "# Reading data from csv\n",
    "df_train = pd.read_csv(\"/Users/vw12/Desktop/API_Scrapping/Classification_fake/fake-news/train.csv\")\n",
    "df_test  = pd.read_csv(\"/Users/vw12/Desktop/API_Scrapping/Classification_fake/fake-news/test.csv\")\n",
    "df_train.head()"
   ]
  },
  {
   "cell_type": "code",
   "execution_count": 93,
   "metadata": {
    "execution": {
     "iopub.execute_input": "2021-04-24T06:09:37.027386Z",
     "iopub.status.busy": "2021-04-24T06:09:37.026495Z",
     "iopub.status.idle": "2021-04-24T06:09:37.030601Z",
     "shell.execute_reply": "2021-04-24T06:09:37.031035Z"
    },
    "papermill": {
     "duration": 0.045255,
     "end_time": "2021-04-24T06:09:37.031193",
     "exception": false,
     "start_time": "2021-04-24T06:09:36.985938",
     "status": "completed"
    },
    "tags": []
   },
   "outputs": [
    {
     "data": {
      "text/html": [
       "<div>\n",
       "<style scoped>\n",
       "    .dataframe tbody tr th:only-of-type {\n",
       "        vertical-align: middle;\n",
       "    }\n",
       "\n",
       "    .dataframe tbody tr th {\n",
       "        vertical-align: top;\n",
       "    }\n",
       "\n",
       "    .dataframe thead th {\n",
       "        text-align: right;\n",
       "    }\n",
       "</style>\n",
       "<table border=\"1\" class=\"dataframe\">\n",
       "  <thead>\n",
       "    <tr style=\"text-align: right;\">\n",
       "      <th></th>\n",
       "      <th>id</th>\n",
       "      <th>title</th>\n",
       "      <th>author</th>\n",
       "      <th>text</th>\n",
       "    </tr>\n",
       "  </thead>\n",
       "  <tbody>\n",
       "    <tr>\n",
       "      <th>0</th>\n",
       "      <td>20800</td>\n",
       "      <td>Specter of Trump Loosens Tongues, if Not Purse...</td>\n",
       "      <td>David Streitfeld</td>\n",
       "      <td>PALO ALTO, Calif.  —   After years of scorning...</td>\n",
       "    </tr>\n",
       "    <tr>\n",
       "      <th>1</th>\n",
       "      <td>20801</td>\n",
       "      <td>Russian warships ready to strike terrorists ne...</td>\n",
       "      <td>NaN</td>\n",
       "      <td>Russian warships ready to strike terrorists ne...</td>\n",
       "    </tr>\n",
       "    <tr>\n",
       "      <th>2</th>\n",
       "      <td>20802</td>\n",
       "      <td>#NoDAPL: Native American Leaders Vow to Stay A...</td>\n",
       "      <td>Common Dreams</td>\n",
       "      <td>Videos #NoDAPL: Native American Leaders Vow to...</td>\n",
       "    </tr>\n",
       "    <tr>\n",
       "      <th>3</th>\n",
       "      <td>20803</td>\n",
       "      <td>Tim Tebow Will Attempt Another Comeback, This ...</td>\n",
       "      <td>Daniel Victor</td>\n",
       "      <td>If at first you don’t succeed, try a different...</td>\n",
       "    </tr>\n",
       "    <tr>\n",
       "      <th>4</th>\n",
       "      <td>20804</td>\n",
       "      <td>Keiser Report: Meme Wars (E995)</td>\n",
       "      <td>Truth Broadcast Network</td>\n",
       "      <td>42 mins ago 1 Views 0 Comments 0 Likes 'For th...</td>\n",
       "    </tr>\n",
       "  </tbody>\n",
       "</table>\n",
       "</div>"
      ],
      "text/plain": [
       "      id                                              title  \\\n",
       "0  20800  Specter of Trump Loosens Tongues, if Not Purse...   \n",
       "1  20801  Russian warships ready to strike terrorists ne...   \n",
       "2  20802  #NoDAPL: Native American Leaders Vow to Stay A...   \n",
       "3  20803  Tim Tebow Will Attempt Another Comeback, This ...   \n",
       "4  20804                    Keiser Report: Meme Wars (E995)   \n",
       "\n",
       "                    author                                               text  \n",
       "0         David Streitfeld  PALO ALTO, Calif.  —   After years of scorning...  \n",
       "1                      NaN  Russian warships ready to strike terrorists ne...  \n",
       "2            Common Dreams  Videos #NoDAPL: Native American Leaders Vow to...  \n",
       "3            Daniel Victor  If at first you don’t succeed, try a different...  \n",
       "4  Truth Broadcast Network  42 mins ago 1 Views 0 Comments 0 Likes 'For th...  "
      ]
     },
     "execution_count": 93,
     "metadata": {},
     "output_type": "execute_result"
    }
   ],
   "source": [
    "df_test.head()"
   ]
  },
  {
   "cell_type": "code",
   "execution_count": 94,
   "metadata": {
    "execution": {
     "iopub.execute_input": "2021-04-24T06:09:37.096950Z",
     "iopub.status.busy": "2021-04-24T06:09:37.096112Z",
     "iopub.status.idle": "2021-04-24T06:09:37.100928Z",
     "shell.execute_reply": "2021-04-24T06:09:37.100444Z"
    },
    "papermill": {
     "duration": 0.040823,
     "end_time": "2021-04-24T06:09:37.101079",
     "exception": false,
     "start_time": "2021-04-24T06:09:37.060256",
     "status": "completed"
    },
    "tags": []
   },
   "outputs": [
    {
     "name": "stdout",
     "output_type": "stream",
     "text": [
      "Il y a  20800 lignes et  5 colonnes pour le training.\n",
      "Il y a  5200 lignes et  4 colonnes pour le testing.\n"
     ]
    }
   ],
   "source": [
    "# Displaying rows and columns in dataset\n",
    "print(\"Il y a  {} lignes et  {} colonnes pour le training.\".format(df_train.shape[0],df_train.shape[1]))\n",
    "print(\"Il y a  {} lignes et  {} colonnes pour le testing.\".format(df_test.shape[0],df_test.shape[1]))"
   ]
  },
  {
   "cell_type": "markdown",
   "metadata": {
    "papermill": {
     "duration": 0.028949,
     "end_time": "2021-04-24T06:09:37.159602",
     "exception": false,
     "start_time": "2021-04-24T06:09:37.130653",
     "status": "completed"
    },
    "tags": []
   },
   "source": [
    "**Checking Null Values**"
   ]
  },
  {
   "cell_type": "code",
   "execution_count": 95,
   "metadata": {
    "execution": {
     "iopub.execute_input": "2021-04-24T06:09:37.231801Z",
     "iopub.status.busy": "2021-04-24T06:09:37.230875Z",
     "iopub.status.idle": "2021-04-24T06:09:37.238038Z",
     "shell.execute_reply": "2021-04-24T06:09:37.237532Z"
    },
    "papermill": {
     "duration": 0.049253,
     "end_time": "2021-04-24T06:09:37.238281",
     "exception": false,
     "start_time": "2021-04-24T06:09:37.189028",
     "status": "completed"
    },
    "tags": []
   },
   "outputs": [
    {
     "data": {
      "text/plain": [
       "id           0\n",
       "title      558\n",
       "author    1957\n",
       "text        39\n",
       "label        0\n",
       "dtype: int64"
      ]
     },
     "execution_count": 95,
     "metadata": {},
     "output_type": "execute_result"
    }
   ],
   "source": [
    "# Recherche des values manquantes dans training data.\n",
    "df_train.isnull().sum()"
   ]
  },
  {
   "cell_type": "code",
   "execution_count": 96,
   "metadata": {
    "execution": {
     "iopub.execute_input": "2021-04-24T06:09:37.307362Z",
     "iopub.status.busy": "2021-04-24T06:09:37.306474Z",
     "iopub.status.idle": "2021-04-24T06:09:37.310241Z",
     "shell.execute_reply": "2021-04-24T06:09:37.310695Z"
    },
    "papermill": {
     "duration": 0.042807,
     "end_time": "2021-04-24T06:09:37.310855",
     "exception": false,
     "start_time": "2021-04-24T06:09:37.268048",
     "status": "completed"
    },
    "tags": []
   },
   "outputs": [
    {
     "data": {
      "text/plain": [
       "id          0\n",
       "title     122\n",
       "author    503\n",
       "text        7\n",
       "dtype: int64"
      ]
     },
     "execution_count": 96,
     "metadata": {},
     "output_type": "execute_result"
    }
   ],
   "source": [
    "# Recherche des values manquantes dans testing data.\n",
    "df_test.isnull().sum()"
   ]
  },
  {
   "cell_type": "code",
   "execution_count": 101,
   "metadata": {
    "execution": {
     "iopub.execute_input": "2021-04-24T06:09:37.384298Z",
     "iopub.status.busy": "2021-04-24T06:09:37.383308Z",
     "iopub.status.idle": "2021-04-24T06:09:37.393623Z",
     "shell.execute_reply": "2021-04-24T06:09:37.393113Z"
    },
    "papermill": {
     "duration": 0.053598,
     "end_time": "2021-04-24T06:09:37.393764",
     "exception": false,
     "start_time": "2021-04-24T06:09:37.340166",
     "status": "completed"
    },
    "tags": []
   },
   "outputs": [],
   "source": [
    "# Remplacer les valeurs nan dans un ensemble de données par l'espace vide\n",
    "def handle_nan(train_data,test_data):\n",
    "    '''Input: Data to the function containing Nan values.\n",
    "       Output : Cleaned data containing no Nan values.\n",
    "       Function: Cleaning Nan values.\n",
    "     '''\n",
    "    train = train_data.fillna(\" \")\n",
    "    test  = test_data.fillna(\" \")\n",
    "    return train,test\n",
    "\n"
   ]
  },
  {
   "cell_type": "code",
   "execution_count": 103,
   "metadata": {},
   "outputs": [
    {
     "data": {
      "text/html": [
       "<div>\n",
       "<style scoped>\n",
       "    .dataframe tbody tr th:only-of-type {\n",
       "        vertical-align: middle;\n",
       "    }\n",
       "\n",
       "    .dataframe tbody tr th {\n",
       "        vertical-align: top;\n",
       "    }\n",
       "\n",
       "    .dataframe thead th {\n",
       "        text-align: right;\n",
       "    }\n",
       "</style>\n",
       "<table border=\"1\" class=\"dataframe\">\n",
       "  <thead>\n",
       "    <tr style=\"text-align: right;\">\n",
       "      <th></th>\n",
       "      <th>id</th>\n",
       "      <th>title</th>\n",
       "      <th>author</th>\n",
       "      <th>text</th>\n",
       "    </tr>\n",
       "  </thead>\n",
       "  <tbody>\n",
       "    <tr>\n",
       "      <th>0</th>\n",
       "      <td>20800</td>\n",
       "      <td>Specter of Trump Loosens Tongues, if Not Purse...</td>\n",
       "      <td>David Streitfeld</td>\n",
       "      <td>PALO ALTO, Calif.  —   After years of scorning...</td>\n",
       "    </tr>\n",
       "    <tr>\n",
       "      <th>1</th>\n",
       "      <td>20801</td>\n",
       "      <td>Russian warships ready to strike terrorists ne...</td>\n",
       "      <td></td>\n",
       "      <td>Russian warships ready to strike terrorists ne...</td>\n",
       "    </tr>\n",
       "    <tr>\n",
       "      <th>2</th>\n",
       "      <td>20802</td>\n",
       "      <td>#NoDAPL: Native American Leaders Vow to Stay A...</td>\n",
       "      <td>Common Dreams</td>\n",
       "      <td>Videos #NoDAPL: Native American Leaders Vow to...</td>\n",
       "    </tr>\n",
       "    <tr>\n",
       "      <th>3</th>\n",
       "      <td>20803</td>\n",
       "      <td>Tim Tebow Will Attempt Another Comeback, This ...</td>\n",
       "      <td>Daniel Victor</td>\n",
       "      <td>If at first you don’t succeed, try a different...</td>\n",
       "    </tr>\n",
       "    <tr>\n",
       "      <th>4</th>\n",
       "      <td>20804</td>\n",
       "      <td>Keiser Report: Meme Wars (E995)</td>\n",
       "      <td>Truth Broadcast Network</td>\n",
       "      <td>42 mins ago 1 Views 0 Comments 0 Likes 'For th...</td>\n",
       "    </tr>\n",
       "  </tbody>\n",
       "</table>\n",
       "</div>"
      ],
      "text/plain": [
       "      id                                              title  \\\n",
       "0  20800  Specter of Trump Loosens Tongues, if Not Purse...   \n",
       "1  20801  Russian warships ready to strike terrorists ne...   \n",
       "2  20802  #NoDAPL: Native American Leaders Vow to Stay A...   \n",
       "3  20803  Tim Tebow Will Attempt Another Comeback, This ...   \n",
       "4  20804                    Keiser Report: Meme Wars (E995)   \n",
       "\n",
       "                    author                                               text  \n",
       "0         David Streitfeld  PALO ALTO, Calif.  —   After years of scorning...  \n",
       "1                           Russian warships ready to strike terrorists ne...  \n",
       "2            Common Dreams  Videos #NoDAPL: Native American Leaders Vow to...  \n",
       "3            Daniel Victor  If at first you don’t succeed, try a different...  \n",
       "4  Truth Broadcast Network  42 mins ago 1 Views 0 Comments 0 Likes 'For th...  "
      ]
     },
     "execution_count": 103,
     "metadata": {},
     "output_type": "execute_result"
    }
   ],
   "source": [
    "train,test = handle_nan(df_train,df_test)\n",
    "test.head()"
   ]
  },
  {
   "cell_type": "code",
   "execution_count": 104,
   "metadata": {
    "execution": {
     "iopub.execute_input": "2021-04-24T06:09:37.463196Z",
     "iopub.status.busy": "2021-04-24T06:09:37.462359Z",
     "iopub.status.idle": "2021-04-24T06:09:37.499005Z",
     "shell.execute_reply": "2021-04-24T06:09:37.498015Z"
    },
    "papermill": {
     "duration": 0.074502,
     "end_time": "2021-04-24T06:09:37.499162",
     "exception": false,
     "start_time": "2021-04-24T06:09:37.424660",
     "status": "completed"
    },
    "tags": []
   },
   "outputs": [],
   "source": [
    "# Création de variables qui fusionne les colonnes  \"title\" et \"author\"\n",
    "train[\"merged\"] = train[\"title\"]+\" \"+train[\"author\"]\n",
    "test[\"merged\"]  = test[\"title\"]+\" \"+test[\"author\"]"
   ]
  },
  {
   "cell_type": "code",
   "execution_count": 105,
   "metadata": {
    "execution": {
     "iopub.execute_input": "2021-04-24T06:09:37.568349Z",
     "iopub.status.busy": "2021-04-24T06:09:37.567217Z",
     "iopub.status.idle": "2021-04-24T06:09:37.579148Z",
     "shell.execute_reply": "2021-04-24T06:09:37.578592Z"
    },
    "papermill": {
     "duration": 0.049049,
     "end_time": "2021-04-24T06:09:37.579289",
     "exception": false,
     "start_time": "2021-04-24T06:09:37.530240",
     "status": "completed"
    },
    "tags": []
   },
   "outputs": [],
   "source": [
    "# Séparation des features des cibles\n",
    "X = train.drop(columns=['label'],axis=1)\n",
    "y = train['label']"
   ]
  },
  {
   "cell_type": "code",
   "execution_count": 106,
   "metadata": {},
   "outputs": [
    {
     "data": {
      "text/html": [
       "<div>\n",
       "<style scoped>\n",
       "    .dataframe tbody tr th:only-of-type {\n",
       "        vertical-align: middle;\n",
       "    }\n",
       "\n",
       "    .dataframe tbody tr th {\n",
       "        vertical-align: top;\n",
       "    }\n",
       "\n",
       "    .dataframe thead th {\n",
       "        text-align: right;\n",
       "    }\n",
       "</style>\n",
       "<table border=\"1\" class=\"dataframe\">\n",
       "  <thead>\n",
       "    <tr style=\"text-align: right;\">\n",
       "      <th></th>\n",
       "      <th>id</th>\n",
       "      <th>title</th>\n",
       "      <th>author</th>\n",
       "      <th>text</th>\n",
       "      <th>merged</th>\n",
       "    </tr>\n",
       "  </thead>\n",
       "  <tbody>\n",
       "    <tr>\n",
       "      <th>0</th>\n",
       "      <td>0</td>\n",
       "      <td>House Dem Aide: We Didn’t Even See Comey’s Let...</td>\n",
       "      <td>Darrell Lucus</td>\n",
       "      <td>House Dem Aide: We Didn’t Even See Comey’s Let...</td>\n",
       "      <td>House Dem Aide: We Didn’t Even See Comey’s Let...</td>\n",
       "    </tr>\n",
       "    <tr>\n",
       "      <th>1</th>\n",
       "      <td>1</td>\n",
       "      <td>FLYNN: Hillary Clinton, Big Woman on Campus - ...</td>\n",
       "      <td>Daniel J. Flynn</td>\n",
       "      <td>Ever get the feeling your life circles the rou...</td>\n",
       "      <td>FLYNN: Hillary Clinton, Big Woman on Campus - ...</td>\n",
       "    </tr>\n",
       "    <tr>\n",
       "      <th>2</th>\n",
       "      <td>2</td>\n",
       "      <td>Why the Truth Might Get You Fired</td>\n",
       "      <td>Consortiumnews.com</td>\n",
       "      <td>Why the Truth Might Get You Fired October 29, ...</td>\n",
       "      <td>Why the Truth Might Get You Fired Consortiumne...</td>\n",
       "    </tr>\n",
       "    <tr>\n",
       "      <th>3</th>\n",
       "      <td>3</td>\n",
       "      <td>15 Civilians Killed In Single US Airstrike Hav...</td>\n",
       "      <td>Jessica Purkiss</td>\n",
       "      <td>Videos 15 Civilians Killed In Single US Airstr...</td>\n",
       "      <td>15 Civilians Killed In Single US Airstrike Hav...</td>\n",
       "    </tr>\n",
       "    <tr>\n",
       "      <th>4</th>\n",
       "      <td>4</td>\n",
       "      <td>Iranian woman jailed for fictional unpublished...</td>\n",
       "      <td>Howard Portnoy</td>\n",
       "      <td>Print \\nAn Iranian woman has been sentenced to...</td>\n",
       "      <td>Iranian woman jailed for fictional unpublished...</td>\n",
       "    </tr>\n",
       "  </tbody>\n",
       "</table>\n",
       "</div>"
      ],
      "text/plain": [
       "   id                                              title              author  \\\n",
       "0   0  House Dem Aide: We Didn’t Even See Comey’s Let...       Darrell Lucus   \n",
       "1   1  FLYNN: Hillary Clinton, Big Woman on Campus - ...     Daniel J. Flynn   \n",
       "2   2                  Why the Truth Might Get You Fired  Consortiumnews.com   \n",
       "3   3  15 Civilians Killed In Single US Airstrike Hav...     Jessica Purkiss   \n",
       "4   4  Iranian woman jailed for fictional unpublished...      Howard Portnoy   \n",
       "\n",
       "                                                text  \\\n",
       "0  House Dem Aide: We Didn’t Even See Comey’s Let...   \n",
       "1  Ever get the feeling your life circles the rou...   \n",
       "2  Why the Truth Might Get You Fired October 29, ...   \n",
       "3  Videos 15 Civilians Killed In Single US Airstr...   \n",
       "4  Print \\nAn Iranian woman has been sentenced to...   \n",
       "\n",
       "                                              merged  \n",
       "0  House Dem Aide: We Didn’t Even See Comey’s Let...  \n",
       "1  FLYNN: Hillary Clinton, Big Woman on Campus - ...  \n",
       "2  Why the Truth Might Get You Fired Consortiumne...  \n",
       "3  15 Civilians Killed In Single US Airstrike Hav...  \n",
       "4  Iranian woman jailed for fictional unpublished...  "
      ]
     },
     "execution_count": 106,
     "metadata": {},
     "output_type": "execute_result"
    }
   ],
   "source": [
    "X.head()"
   ]
  },
  {
   "cell_type": "code",
   "execution_count": 107,
   "metadata": {
    "execution": {
     "iopub.execute_input": "2021-04-24T06:09:37.650672Z",
     "iopub.status.busy": "2021-04-24T06:09:37.649601Z",
     "iopub.status.idle": "2021-04-24T06:09:37.657298Z",
     "shell.execute_reply": "2021-04-24T06:09:37.657843Z"
    },
    "papermill": {
     "duration": 0.046399,
     "end_time": "2021-04-24T06:09:37.658022",
     "exception": false,
     "start_time": "2021-04-24T06:09:37.611623",
     "status": "completed"
    },
    "tags": []
   },
   "outputs": [],
   "source": [
    "# Creating One-Hot Representations\n",
    "messages = X.copy()\n",
    "messages.reset_index(inplace=True)\n",
    "messages_test = test.copy()\n",
    "messages_test.reset_index(inplace=True)"
   ]
  },
  {
   "cell_type": "code",
   "execution_count": 108,
   "metadata": {},
   "outputs": [
    {
     "data": {
      "text/html": [
       "<div>\n",
       "<style scoped>\n",
       "    .dataframe tbody tr th:only-of-type {\n",
       "        vertical-align: middle;\n",
       "    }\n",
       "\n",
       "    .dataframe tbody tr th {\n",
       "        vertical-align: top;\n",
       "    }\n",
       "\n",
       "    .dataframe thead th {\n",
       "        text-align: right;\n",
       "    }\n",
       "</style>\n",
       "<table border=\"1\" class=\"dataframe\">\n",
       "  <thead>\n",
       "    <tr style=\"text-align: right;\">\n",
       "      <th></th>\n",
       "      <th>index</th>\n",
       "      <th>id</th>\n",
       "      <th>title</th>\n",
       "      <th>author</th>\n",
       "      <th>text</th>\n",
       "      <th>merged</th>\n",
       "    </tr>\n",
       "  </thead>\n",
       "  <tbody>\n",
       "    <tr>\n",
       "      <th>0</th>\n",
       "      <td>0</td>\n",
       "      <td>0</td>\n",
       "      <td>House Dem Aide: We Didn’t Even See Comey’s Let...</td>\n",
       "      <td>Darrell Lucus</td>\n",
       "      <td>House Dem Aide: We Didn’t Even See Comey’s Let...</td>\n",
       "      <td>House Dem Aide: We Didn’t Even See Comey’s Let...</td>\n",
       "    </tr>\n",
       "    <tr>\n",
       "      <th>1</th>\n",
       "      <td>1</td>\n",
       "      <td>1</td>\n",
       "      <td>FLYNN: Hillary Clinton, Big Woman on Campus - ...</td>\n",
       "      <td>Daniel J. Flynn</td>\n",
       "      <td>Ever get the feeling your life circles the rou...</td>\n",
       "      <td>FLYNN: Hillary Clinton, Big Woman on Campus - ...</td>\n",
       "    </tr>\n",
       "    <tr>\n",
       "      <th>2</th>\n",
       "      <td>2</td>\n",
       "      <td>2</td>\n",
       "      <td>Why the Truth Might Get You Fired</td>\n",
       "      <td>Consortiumnews.com</td>\n",
       "      <td>Why the Truth Might Get You Fired October 29, ...</td>\n",
       "      <td>Why the Truth Might Get You Fired Consortiumne...</td>\n",
       "    </tr>\n",
       "    <tr>\n",
       "      <th>3</th>\n",
       "      <td>3</td>\n",
       "      <td>3</td>\n",
       "      <td>15 Civilians Killed In Single US Airstrike Hav...</td>\n",
       "      <td>Jessica Purkiss</td>\n",
       "      <td>Videos 15 Civilians Killed In Single US Airstr...</td>\n",
       "      <td>15 Civilians Killed In Single US Airstrike Hav...</td>\n",
       "    </tr>\n",
       "    <tr>\n",
       "      <th>4</th>\n",
       "      <td>4</td>\n",
       "      <td>4</td>\n",
       "      <td>Iranian woman jailed for fictional unpublished...</td>\n",
       "      <td>Howard Portnoy</td>\n",
       "      <td>Print \\nAn Iranian woman has been sentenced to...</td>\n",
       "      <td>Iranian woman jailed for fictional unpublished...</td>\n",
       "    </tr>\n",
       "  </tbody>\n",
       "</table>\n",
       "</div>"
      ],
      "text/plain": [
       "   index  id                                              title  \\\n",
       "0      0   0  House Dem Aide: We Didn’t Even See Comey’s Let...   \n",
       "1      1   1  FLYNN: Hillary Clinton, Big Woman on Campus - ...   \n",
       "2      2   2                  Why the Truth Might Get You Fired   \n",
       "3      3   3  15 Civilians Killed In Single US Airstrike Hav...   \n",
       "4      4   4  Iranian woman jailed for fictional unpublished...   \n",
       "\n",
       "               author                                               text  \\\n",
       "0       Darrell Lucus  House Dem Aide: We Didn’t Even See Comey’s Let...   \n",
       "1     Daniel J. Flynn  Ever get the feeling your life circles the rou...   \n",
       "2  Consortiumnews.com  Why the Truth Might Get You Fired October 29, ...   \n",
       "3     Jessica Purkiss  Videos 15 Civilians Killed In Single US Airstr...   \n",
       "4      Howard Portnoy  Print \\nAn Iranian woman has been sentenced to...   \n",
       "\n",
       "                                              merged  \n",
       "0  House Dem Aide: We Didn’t Even See Comey’s Let...  \n",
       "1  FLYNN: Hillary Clinton, Big Woman on Campus - ...  \n",
       "2  Why the Truth Might Get You Fired Consortiumne...  \n",
       "3  15 Civilians Killed In Single US Airstrike Hav...  \n",
       "4  Iranian woman jailed for fictional unpublished...  "
      ]
     },
     "execution_count": 108,
     "metadata": {},
     "output_type": "execute_result"
    }
   ],
   "source": [
    "messages.head()"
   ]
  },
  {
   "cell_type": "markdown",
   "metadata": {
    "papermill": {
     "duration": 0.031333,
     "end_time": "2021-04-24T06:09:37.721583",
     "exception": false,
     "start_time": "2021-04-24T06:09:37.690250",
     "status": "completed"
    },
    "tags": []
   },
   "source": [
    "# Data Preprocessing\n",
    "**Les étapes de préprocessing des données sont les suivantes:** \n",
    "- 1. D'abord, toutes les séquences, à l'exception des caractères anglaises, sont supprimées de la chaîne.\n",
    "- 2. Pour éviter de fausses prédictions ou ambiguité avec les majuscules et les minuscules toutes les caractères sont conserver en minuscules.\n",
    "- 3. Ensuite toutes la phrases sont Tokeniser en mots ou expressions\n",
    "- 4. Pour faciliter le preprocessing,  le stemming est appliqué aux mots tokenisés.\n",
    "- 5. A la fin les mots sont jointent et stockés dans un corpus .\n",
    "\n"
   ]
  },
  {
   "cell_type": "code",
   "execution_count": 109,
   "metadata": {
    "execution": {
     "iopub.execute_input": "2021-04-24T06:09:37.795326Z",
     "iopub.status.busy": "2021-04-24T06:09:37.794323Z",
     "iopub.status.idle": "2021-04-24T06:10:32.250147Z",
     "shell.execute_reply": "2021-04-24T06:10:32.250689Z"
    },
    "papermill": {
     "duration": 54.497618,
     "end_time": "2021-04-24T06:10:32.250847",
     "exception": false,
     "start_time": "2021-04-24T06:09:37.753229",
     "status": "completed"
    },
    "tags": []
   },
   "outputs": [],
   "source": [
    "#  data preprocessing de la colonne 'title'\n",
    "from nltk.stem.porter import PorterStemmer\n",
    "ps = PorterStemmer()\n",
    "def perform_preprocess(data):\n",
    "    '''Input: Data à etre traité\n",
    "       Output: data traité\n",
    "    '''\n",
    "    corpus = []\n",
    "    for i in range(0,len(data)):\n",
    "        review = re.sub('[^a-zA-Z]',' ',data['merged'][i])\n",
    "        review = review.lower()\n",
    "        review = review.split()\n",
    "        review = [ps.stem(word) for word in review if word not in stopwords.words('english')]\n",
    "        review = ' '.join(review)\n",
    "        corpus.append(review)\n",
    "    return corpus\n",
    "    \n"
   ]
  },
  {
   "cell_type": "code",
   "execution_count": 110,
   "metadata": {},
   "outputs": [
    {
     "data": {
      "text/plain": [
       "'flynn hillari clinton big woman campu breitbart daniel j flynn'"
      ]
     },
     "execution_count": 110,
     "metadata": {},
     "output_type": "execute_result"
    }
   ],
   "source": [
    "train_corpus = perform_preprocess(messages)\n",
    "test_corpus  = perform_preprocess(messages_test)\n",
    "train_corpus[1]"
   ]
  },
  {
   "cell_type": "code",
   "execution_count": 111,
   "metadata": {
    "execution": {
     "iopub.execute_input": "2021-04-24T06:10:32.313006Z",
     "iopub.status.busy": "2021-04-24T06:10:32.312193Z",
     "iopub.status.idle": "2021-04-24T06:10:32.315651Z",
     "shell.execute_reply": "2021-04-24T06:10:32.316046Z"
    },
    "papermill": {
     "duration": 0.037042,
     "end_time": "2021-04-24T06:10:32.316180",
     "exception": false,
     "start_time": "2021-04-24T06:10:32.279138",
     "status": "completed"
    },
    "tags": []
   },
   "outputs": [
    {
     "data": {
      "text/plain": [
       "'russian warship readi strike terrorist near aleppo'"
      ]
     },
     "execution_count": 111,
     "metadata": {},
     "output_type": "execute_result"
    }
   ],
   "source": [
    "test_corpus[1]"
   ]
  },
  {
   "cell_type": "markdown",
   "metadata": {
    "papermill": {
     "duration": 0.028343,
     "end_time": "2021-04-24T06:10:32.372744",
     "exception": false,
     "start_time": "2021-04-24T06:10:32.344401",
     "status": "completed"
    },
    "tags": []
   },
   "source": [
    "**Le code ci-dessous convertit les mots prétraités en vecteurs à un vecteur one-hot taille de vocabulaire = 5000. Ceci est fait pour obtenir une matrice numérique de caractéristiques**"
   ]
  },
  {
   "cell_type": "code",
   "execution_count": 112,
   "metadata": {
    "execution": {
     "iopub.execute_input": "2021-04-24T06:10:32.453681Z",
     "iopub.status.busy": "2021-04-24T06:10:32.448588Z",
     "iopub.status.idle": "2021-04-24T06:10:32.764062Z",
     "shell.execute_reply": "2021-04-24T06:10:32.763601Z"
    },
    "papermill": {
     "duration": 0.3634,
     "end_time": "2021-04-24T06:10:32.764200",
     "exception": false,
     "start_time": "2021-04-24T06:10:32.400800",
     "status": "completed"
    },
    "tags": []
   },
   "outputs": [],
   "source": [
    "# Converting to one-hot repr.\n",
    "vocab_size = 5000\n",
    "one_hot_train = [one_hot(word,vocab_size) for word in train_corpus]\n",
    "one_hot_test  = [one_hot(word,vocab_size) for word in test_corpus]"
   ]
  },
  {
   "cell_type": "code",
   "execution_count": 113,
   "metadata": {
    "execution": {
     "iopub.execute_input": "2021-04-24T06:10:32.825499Z",
     "iopub.status.busy": "2021-04-24T06:10:32.824956Z",
     "iopub.status.idle": "2021-04-24T06:10:32.830896Z",
     "shell.execute_reply": "2021-04-24T06:10:32.830451Z"
    },
    "papermill": {
     "duration": 0.038526,
     "end_time": "2021-04-24T06:10:32.831020",
     "exception": false,
     "start_time": "2021-04-24T06:10:32.792494",
     "status": "completed"
    },
    "tags": []
   },
   "outputs": [
    {
     "data": {
      "text/plain": [
       "[1559, 3748, 3863, 4037, 2729, 1222, 4982]"
      ]
     },
     "execution_count": 113,
     "metadata": {},
     "output_type": "execute_result"
    }
   ],
   "source": [
    "one_hot_test[1]"
   ]
  },
  {
   "cell_type": "markdown",
   "metadata": {
    "papermill": {
     "duration": 0.029189,
     "end_time": "2021-04-24T06:10:32.888995",
     "exception": false,
     "start_time": "2021-04-24T06:10:32.859806",
     "status": "completed"
    },
    "tags": []
   },
   "source": [
    "**Le code ci-dessous crée une couche embledding qui applique un \"pré\" remplissage aux caractéristiques codées via one hot  avec une longueur = 20. Le remplissage est appliqué de manière à ce que la longueur de chaque séquence dans l'ensemble de données soit la même.**"
   ]
  },
  {
   "cell_type": "code",
   "execution_count": 114,
   "metadata": {
    "execution": {
     "iopub.execute_input": "2021-04-24T06:10:32.955332Z",
     "iopub.status.busy": "2021-04-24T06:10:32.954546Z",
     "iopub.status.idle": "2021-04-24T06:10:33.139938Z",
     "shell.execute_reply": "2021-04-24T06:10:33.140692Z"
    },
    "papermill": {
     "duration": 0.223139,
     "end_time": "2021-04-24T06:10:33.140894",
     "exception": false,
     "start_time": "2021-04-24T06:10:32.917755",
     "status": "completed"
    },
    "tags": []
   },
   "outputs": [
    {
     "name": "stdout",
     "output_type": "stream",
     "text": [
      "[[   0    0    0 ... 3134 2859  454]\n",
      " [   0    0    0 ... 1758 2610 3492]\n",
      " [   0    0    0 ... 3501 2750  875]\n",
      " ...\n",
      " [   0    0    0 ...  794 2183 3346]\n",
      " [   0    0    0 ... 2783 3091 1819]\n",
      " [   0    0    0 ... 2549  445 2274]]\n"
     ]
    }
   ],
   "source": [
    "# Embedding Representation \n",
    "sent_length = 20\n",
    "embedd_docs_train = pad_sequences(one_hot_train,padding='pre',maxlen=sent_length)\n",
    "embedd_docs_test  = pad_sequences(one_hot_test,padding='pre',maxlen=sent_length)\n",
    "print(embedd_docs_train)"
   ]
  },
  {
   "cell_type": "code",
   "execution_count": 115,
   "metadata": {
    "execution": {
     "iopub.execute_input": "2021-04-24T06:10:33.212287Z",
     "iopub.status.busy": "2021-04-24T06:10:33.210668Z",
     "iopub.status.idle": "2021-04-24T06:10:33.214919Z",
     "shell.execute_reply": "2021-04-24T06:10:33.214284Z"
    },
    "papermill": {
     "duration": 0.041224,
     "end_time": "2021-04-24T06:10:33.215080",
     "exception": false,
     "start_time": "2021-04-24T06:10:33.173856",
     "status": "completed"
    },
    "tags": []
   },
   "outputs": [
    {
     "name": "stdout",
     "output_type": "stream",
     "text": [
      "[[   0    0    0 ... 3623  445  237]\n",
      " [   0    0    0 ... 2729 1222 4982]\n",
      " [   0    0    0 ... 2705 3171 1776]\n",
      " ...\n",
      " [   0    0    0 ... 3623 2303 4509]\n",
      " [   0    0    0 ... 1559 2228 1320]\n",
      " [   0    0    0 ... 3623 4440 3084]]\n"
     ]
    },
    {
     "data": {
      "text/plain": [
       "((5200, 20), None)"
      ]
     },
     "execution_count": 115,
     "metadata": {},
     "output_type": "execute_result"
    }
   ],
   "source": [
    "embedd_docs_test.shape, print(embedd_docs_test)"
   ]
  },
  {
   "cell_type": "code",
   "execution_count": 116,
   "metadata": {
    "execution": {
     "iopub.execute_input": "2021-04-24T06:10:33.281834Z",
     "iopub.status.busy": "2021-04-24T06:10:33.280947Z",
     "iopub.status.idle": "2021-04-24T06:10:33.285462Z",
     "shell.execute_reply": "2021-04-24T06:10:33.285039Z"
    },
    "papermill": {
     "duration": 0.039306,
     "end_time": "2021-04-24T06:10:33.285599",
     "exception": false,
     "start_time": "2021-04-24T06:10:33.246293",
     "status": "completed"
    },
    "tags": []
   },
   "outputs": [],
   "source": [
    "# Conversion du Embedding representation. à un tableau array\n",
    "x_final = np.array(embedd_docs_train)\n",
    "y_final = np.array(y)\n",
    "x_test_final = np.array(embedd_docs_test)"
   ]
  },
  {
   "cell_type": "code",
   "execution_count": 117,
   "metadata": {
    "execution": {
     "iopub.execute_input": "2021-04-24T06:10:33.351976Z",
     "iopub.status.busy": "2021-04-24T06:10:33.351288Z",
     "iopub.status.idle": "2021-04-24T06:10:33.354356Z",
     "shell.execute_reply": "2021-04-24T06:10:33.354814Z"
    },
    "papermill": {
     "duration": 0.038988,
     "end_time": "2021-04-24T06:10:33.354952",
     "exception": false,
     "start_time": "2021-04-24T06:10:33.315964",
     "status": "completed"
    },
    "tags": []
   },
   "outputs": [
    {
     "data": {
      "text/plain": [
       "((20800, 20), (20800,), (5200, 20))"
      ]
     },
     "execution_count": 117,
     "metadata": {},
     "output_type": "execute_result"
    }
   ],
   "source": [
    "# Dimensions of prev. array repr.\n",
    "x_final.shape,y_final.shape,x_test_final.shape"
   ]
  },
  {
   "cell_type": "markdown",
   "metadata": {
    "papermill": {
     "duration": 0.030394,
     "end_time": "2021-04-24T06:10:33.415857",
     "exception": false,
     "start_time": "2021-04-24T06:10:33.385463",
     "status": "completed"
    },
    "tags": []
   },
   "source": [
    "**Dividing the dataset into training,validation and testing data (ratio: 80/10/10) using train_test_split technique.**"
   ]
  },
  {
   "cell_type": "code",
   "execution_count": 118,
   "metadata": {
    "execution": {
     "iopub.execute_input": "2021-04-24T06:10:33.484108Z",
     "iopub.status.busy": "2021-04-24T06:10:33.483148Z",
     "iopub.status.idle": "2021-04-24T06:10:33.518138Z",
     "shell.execute_reply": "2021-04-24T06:10:33.517642Z"
    },
    "papermill": {
     "duration": 0.071135,
     "end_time": "2021-04-24T06:10:33.518266",
     "exception": false,
     "start_time": "2021-04-24T06:10:33.447131",
     "status": "completed"
    },
    "tags": []
   },
   "outputs": [
    {
     "data": {
      "text/plain": [
       "array([[ True,  True,  True, ...,  True,  True,  True],\n",
       "       [ True,  True,  True, ...,  True,  True,  True],\n",
       "       [ True,  True,  True, ...,  True,  True,  True],\n",
       "       ...,\n",
       "       [ True,  True,  True, ...,  True,  True,  True],\n",
       "       [ True,  True,  True, ...,  True,  True,  True],\n",
       "       [ True,  True,  True, ...,  True,  True,  True]])"
      ]
     },
     "execution_count": 118,
     "metadata": {},
     "output_type": "execute_result"
    }
   ],
   "source": [
    "from sklearn.model_selection import train_test_split\n",
    "x_train, x_test, y_train, y_test = train_test_split(x_final, y_final, test_size=0.1, random_state=42, stratify = y_final)\n",
    "X_train, x_valid, Y_train, y_valid = train_test_split(x_train, y_train, test_size=0.1, random_state=42, stratify = y_train)\n",
    "x_test_final == x_test_final"
   ]
  },
  {
   "cell_type": "code",
   "execution_count": 59,
   "metadata": {},
   "outputs": [
    {
     "data": {
      "text/plain": [
       "(5200, 20)"
      ]
     },
     "execution_count": 59,
     "metadata": {},
     "output_type": "execute_result"
    }
   ],
   "source": [
    "x_test_final.shape"
   ]
  },
  {
   "cell_type": "code",
   "execution_count": 119,
   "metadata": {},
   "outputs": [],
   "source": [
    "def accuracy(pred,verite):\n",
    "    return ((pred==verite).mean())"
   ]
  },
  {
   "cell_type": "markdown",
   "metadata": {
    "papermill": {
     "duration": 0.030769,
     "end_time": "2021-04-24T06:10:33.580032",
     "exception": false,
     "start_time": "2021-04-24T06:10:33.549263",
     "status": "completed"
    },
    "tags": []
   },
   "source": [
    "# Creating Models\n",
    "**In this phase, several models are created and evaluated against various metrics shown using classification report.**"
   ]
  },
  {
   "cell_type": "markdown",
   "metadata": {
    "papermill": {
     "duration": 0.030252,
     "end_time": "2021-04-24T06:10:33.641000",
     "exception": false,
     "start_time": "2021-04-24T06:10:33.610748",
     "status": "completed"
    },
    "tags": []
   },
   "source": [
    "**1. Logistic Regresssion**"
   ]
  },
  {
   "cell_type": "code",
   "execution_count": 121,
   "metadata": {
    "execution": {
     "iopub.execute_input": "2021-04-24T06:10:33.708354Z",
     "iopub.status.busy": "2021-04-24T06:10:33.707412Z",
     "iopub.status.idle": "2021-04-24T06:10:34.492276Z",
     "shell.execute_reply": "2021-04-24T06:10:34.493735Z"
    },
    "papermill": {
     "duration": 0.821975,
     "end_time": "2021-04-24T06:10:34.493942",
     "exception": false,
     "start_time": "2021-04-24T06:10:33.671967",
     "status": "completed"
    },
    "tags": []
   },
   "outputs": [
    {
     "name": "stdout",
     "output_type": "stream",
     "text": [
      "              precision    recall  f1-score   support\n",
      "\n",
      "           0       0.71      0.76      0.74      1039\n",
      "           1       0.74      0.69      0.72      1041\n",
      "\n",
      "    accuracy                           0.73      2080\n",
      "   macro avg       0.73      0.73      0.73      2080\n",
      "weighted avg       0.73      0.73      0.73      2080\n",
      "\n"
     ]
    }
   ],
   "source": [
    "model_1 = LogisticRegression(max_iter=900)\n",
    "model_1.fit(X_train,Y_train)\n",
    "pred_1 = model_1.predict(x_test)\n",
    "cr1    = classification_report(y_test,pred_1)\n",
    "print(cr1)"
   ]
  },
  {
   "cell_type": "code",
   "execution_count": 122,
   "metadata": {},
   "outputs": [
    {
     "data": {
      "text/plain": [
       "0.7269230769230769"
      ]
     },
     "execution_count": 122,
     "metadata": {},
     "output_type": "execute_result"
    }
   ],
   "source": [
    "accuracy(pred_1,y_test)"
   ]
  },
  {
   "cell_type": "markdown",
   "metadata": {
    "papermill": {
     "duration": 0.056264,
     "end_time": "2021-04-24T06:10:34.642128",
     "exception": false,
     "start_time": "2021-04-24T06:10:34.585864",
     "status": "completed"
    },
    "tags": []
   },
   "source": [
    "**2. Naive Bayes**"
   ]
  },
  {
   "cell_type": "code",
   "execution_count": 123,
   "metadata": {
    "execution": {
     "iopub.execute_input": "2021-04-24T06:10:34.768702Z",
     "iopub.status.busy": "2021-04-24T06:10:34.767755Z",
     "iopub.status.idle": "2021-04-24T06:10:34.793854Z",
     "shell.execute_reply": "2021-04-24T06:10:34.794533Z"
    },
    "papermill": {
     "duration": 0.095847,
     "end_time": "2021-04-24T06:10:34.794783",
     "exception": false,
     "start_time": "2021-04-24T06:10:34.698936",
     "status": "completed"
    },
    "tags": []
   },
   "outputs": [
    {
     "name": "stdout",
     "output_type": "stream",
     "text": [
      "              precision    recall  f1-score   support\n",
      "\n",
      "           0       0.70      0.60      0.65      1039\n",
      "           1       0.65      0.74      0.69      1041\n",
      "\n",
      "    accuracy                           0.67      2080\n",
      "   macro avg       0.67      0.67      0.67      2080\n",
      "weighted avg       0.67      0.67      0.67      2080\n",
      "\n"
     ]
    }
   ],
   "source": [
    "model_2 = MultinomialNB()\n",
    "model_2.fit(X_train,Y_train)\n",
    "pred_2 = model_2.predict(x_test)\n",
    "cr2    = classification_report(y_test,pred_2)\n",
    "print(cr2)"
   ]
  },
  {
   "cell_type": "code",
   "execution_count": 124,
   "metadata": {},
   "outputs": [
    {
     "data": {
      "text/plain": [
       "0.6711538461538461"
      ]
     },
     "execution_count": 124,
     "metadata": {},
     "output_type": "execute_result"
    }
   ],
   "source": [
    "accuracy(pred_2,y_test)"
   ]
  },
  {
   "cell_type": "markdown",
   "metadata": {
    "papermill": {
     "duration": 0.054694,
     "end_time": "2021-04-24T06:10:34.915701",
     "exception": false,
     "start_time": "2021-04-24T06:10:34.861007",
     "status": "completed"
    },
    "tags": []
   },
   "source": [
    "**3. Decision Trees**"
   ]
  },
  {
   "cell_type": "code",
   "execution_count": 125,
   "metadata": {
    "execution": {
     "iopub.execute_input": "2021-04-24T06:10:35.025257Z",
     "iopub.status.busy": "2021-04-24T06:10:35.024595Z",
     "iopub.status.idle": "2021-04-24T06:10:35.290849Z",
     "shell.execute_reply": "2021-04-24T06:10:35.291776Z"
    },
    "papermill": {
     "duration": 0.330978,
     "end_time": "2021-04-24T06:10:35.291966",
     "exception": false,
     "start_time": "2021-04-24T06:10:34.960988",
     "status": "completed"
    },
    "tags": []
   },
   "outputs": [
    {
     "name": "stdout",
     "output_type": "stream",
     "text": [
      "              precision    recall  f1-score   support\n",
      "\n",
      "           0       0.89      0.89      0.89      1039\n",
      "           1       0.89      0.89      0.89      1041\n",
      "\n",
      "    accuracy                           0.89      2080\n",
      "   macro avg       0.89      0.89      0.89      2080\n",
      "weighted avg       0.89      0.89      0.89      2080\n",
      "\n"
     ]
    }
   ],
   "source": [
    "model_3 = DecisionTreeClassifier()\n",
    "model_3.fit(X_train,Y_train)\n",
    "pred_3 = model_3.predict(x_test)\n",
    "cr3    = classification_report(y_test,pred_3)\n",
    "print(cr3)"
   ]
  },
  {
   "cell_type": "code",
   "execution_count": 126,
   "metadata": {},
   "outputs": [
    {
     "data": {
      "text/plain": [
       "0.8875"
      ]
     },
     "execution_count": 126,
     "metadata": {},
     "output_type": "execute_result"
    }
   ],
   "source": [
    "accuracy(pred_3,y_test)"
   ]
  },
  {
   "cell_type": "markdown",
   "metadata": {
    "papermill": {
     "duration": 0.048039,
     "end_time": "2021-04-24T06:10:35.389617",
     "exception": false,
     "start_time": "2021-04-24T06:10:35.341578",
     "status": "completed"
    },
    "tags": []
   },
   "source": [
    "**4. Random Forest**"
   ]
  },
  {
   "cell_type": "code",
   "execution_count": 127,
   "metadata": {
    "execution": {
     "iopub.execute_input": "2021-04-24T06:10:35.497352Z",
     "iopub.status.busy": "2021-04-24T06:10:35.496635Z",
     "iopub.status.idle": "2021-04-24T06:10:38.616737Z",
     "shell.execute_reply": "2021-04-24T06:10:38.616078Z"
    },
    "papermill": {
     "duration": 3.178312,
     "end_time": "2021-04-24T06:10:38.616901",
     "exception": false,
     "start_time": "2021-04-24T06:10:35.438589",
     "status": "completed"
    },
    "tags": []
   },
   "outputs": [
    {
     "name": "stdout",
     "output_type": "stream",
     "text": [
      "              precision    recall  f1-score   support\n",
      "\n",
      "           0       0.96      0.86      0.91      1039\n",
      "           1       0.87      0.96      0.91      1041\n",
      "\n",
      "    accuracy                           0.91      2080\n",
      "   macro avg       0.91      0.91      0.91      2080\n",
      "weighted avg       0.91      0.91      0.91      2080\n",
      "\n"
     ]
    }
   ],
   "source": [
    "model_4 = RandomForestClassifier()\n",
    "model_4.fit(X_train,Y_train)\n",
    "pred_4 = model_4.predict(x_test)\n",
    "cr4    = classification_report(y_test,pred_4)\n",
    "print(cr4)"
   ]
  },
  {
   "cell_type": "code",
   "execution_count": 128,
   "metadata": {},
   "outputs": [
    {
     "data": {
      "text/plain": [
       "0.9100961538461538"
      ]
     },
     "execution_count": 128,
     "metadata": {},
     "output_type": "execute_result"
    }
   ],
   "source": [
    "accuracy(pred_4,y_test)"
   ]
  },
  {
   "cell_type": "markdown",
   "metadata": {
    "papermill": {
     "duration": 0.052353,
     "end_time": "2021-04-24T06:10:38.722466",
     "exception": false,
     "start_time": "2021-04-24T06:10:38.670113",
     "status": "completed"
    },
    "tags": []
   },
   "source": [
    "**5. XGBOOST**"
   ]
  },
  {
   "cell_type": "code",
   "execution_count": 129,
   "metadata": {
    "execution": {
     "iopub.execute_input": "2021-04-24T06:10:38.834684Z",
     "iopub.status.busy": "2021-04-24T06:10:38.833993Z",
     "iopub.status.idle": "2021-04-24T06:10:44.681315Z",
     "shell.execute_reply": "2021-04-24T06:10:44.681834Z"
    },
    "papermill": {
     "duration": 5.907179,
     "end_time": "2021-04-24T06:10:44.682012",
     "exception": false,
     "start_time": "2021-04-24T06:10:38.774833",
     "status": "completed"
    },
    "tags": []
   },
   "outputs": [
    {
     "name": "stderr",
     "output_type": "stream",
     "text": [
      "/Users/vw12/opt/anaconda3/lib/python3.7/site-packages/xgboost/sklearn.py:888: UserWarning: The use of label encoder in XGBClassifier is deprecated and will be removed in a future release. To remove this warning, do the following: 1) Pass option use_label_encoder=False when constructing XGBClassifier object; and 2) Encode your labels (y) as integers starting with 0, i.e. 0, 1, 2, ..., [num_class - 1].\n",
      "  warnings.warn(label_encoder_deprecation_msg, UserWarning)\n"
     ]
    },
    {
     "name": "stdout",
     "output_type": "stream",
     "text": [
      "[16:16:35] WARNING: /opt/concourse/worker/volumes/live/7a2b9f41-3287-451b-6691-43e9a6c0910f/volume/xgboost-split_1619728204606/work/src/learner.cc:1061: Starting in XGBoost 1.3.0, the default evaluation metric used with the objective 'binary:logistic' was changed from 'error' to 'logloss'. Explicitly set eval_metric if you'd like to restore the old behavior.\n",
      "              precision    recall  f1-score   support\n",
      "\n",
      "           0       0.99      0.98      0.98      1039\n",
      "           1       0.98      0.99      0.98      1041\n",
      "\n",
      "    accuracy                           0.98      2080\n",
      "   macro avg       0.98      0.98      0.98      2080\n",
      "weighted avg       0.98      0.98      0.98      2080\n",
      "\n"
     ]
    }
   ],
   "source": [
    "model_5 = XGBClassifier()\n",
    "model_5.fit(X_train,Y_train)\n",
    "pred_5 = model_5.predict(x_test)\n",
    "cr5    = classification_report(y_test,pred_5)\n",
    "print(cr5)"
   ]
  },
  {
   "cell_type": "code",
   "execution_count": 130,
   "metadata": {},
   "outputs": [
    {
     "data": {
      "text/plain": [
       "0.9846153846153847"
      ]
     },
     "execution_count": 130,
     "metadata": {},
     "output_type": "execute_result"
    }
   ],
   "source": [
    "accuracy(pred_5,y_test)"
   ]
  },
  {
   "cell_type": "markdown",
   "metadata": {
    "papermill": {
     "duration": 0.033318,
     "end_time": "2021-04-24T06:10:44.749736",
     "exception": false,
     "start_time": "2021-04-24T06:10:44.716418",
     "status": "completed"
    },
    "tags": []
   },
   "source": [
    "**6.Catboost**"
   ]
  },
  {
   "cell_type": "code",
   "execution_count": 131,
   "metadata": {
    "execution": {
     "iopub.execute_input": "2021-04-24T06:10:44.978756Z",
     "iopub.status.busy": "2021-04-24T06:10:44.831427Z",
     "iopub.status.idle": "2021-04-24T06:10:48.010153Z",
     "shell.execute_reply": "2021-04-24T06:10:48.010658Z"
    },
    "papermill": {
     "duration": 3.227673,
     "end_time": "2021-04-24T06:10:48.010817",
     "exception": false,
     "start_time": "2021-04-24T06:10:44.783144",
     "status": "completed"
    },
    "tags": []
   },
   "outputs": [
    {
     "name": "stdout",
     "output_type": "stream",
     "text": [
      "Learning rate set to 0.150531\n",
      "0:\tlearn: 0.5909504\ttotal: 23.2ms\tremaining: 4.61s\n",
      "1:\tlearn: 0.5224908\ttotal: 37.3ms\tremaining: 3.7s\n",
      "2:\tlearn: 0.4794414\ttotal: 51.3ms\tremaining: 3.37s\n",
      "3:\tlearn: 0.4405944\ttotal: 65.3ms\tremaining: 3.2s\n",
      "4:\tlearn: 0.4192496\ttotal: 79.1ms\tremaining: 3.08s\n",
      "5:\tlearn: 0.3916212\ttotal: 93.2ms\tremaining: 3.01s\n",
      "6:\tlearn: 0.3828905\ttotal: 108ms\tremaining: 2.96s\n",
      "7:\tlearn: 0.3725635\ttotal: 122ms\tremaining: 2.92s\n",
      "8:\tlearn: 0.3518537\ttotal: 136ms\tremaining: 2.88s\n",
      "9:\tlearn: 0.3434033\ttotal: 150ms\tremaining: 2.84s\n",
      "10:\tlearn: 0.3367218\ttotal: 164ms\tremaining: 2.81s\n",
      "11:\tlearn: 0.3303275\ttotal: 177ms\tremaining: 2.78s\n",
      "12:\tlearn: 0.3233883\ttotal: 192ms\tremaining: 2.76s\n",
      "13:\tlearn: 0.3174861\ttotal: 210ms\tremaining: 2.79s\n",
      "14:\tlearn: 0.3123141\ttotal: 227ms\tremaining: 2.81s\n",
      "15:\tlearn: 0.3065631\ttotal: 243ms\tremaining: 2.79s\n",
      "16:\tlearn: 0.2991320\ttotal: 257ms\tremaining: 2.76s\n",
      "17:\tlearn: 0.2911423\ttotal: 270ms\tremaining: 2.73s\n",
      "18:\tlearn: 0.2877549\ttotal: 284ms\tremaining: 2.71s\n",
      "19:\tlearn: 0.2847397\ttotal: 298ms\tremaining: 2.68s\n",
      "20:\tlearn: 0.2821143\ttotal: 312ms\tremaining: 2.66s\n",
      "21:\tlearn: 0.2763177\ttotal: 325ms\tremaining: 2.63s\n",
      "22:\tlearn: 0.2721486\ttotal: 338ms\tremaining: 2.6s\n",
      "23:\tlearn: 0.2668011\ttotal: 351ms\tremaining: 2.57s\n",
      "24:\tlearn: 0.2604976\ttotal: 364ms\tremaining: 2.55s\n",
      "25:\tlearn: 0.2575623\ttotal: 377ms\tremaining: 2.52s\n",
      "26:\tlearn: 0.2515760\ttotal: 390ms\tremaining: 2.5s\n",
      "27:\tlearn: 0.2483881\ttotal: 404ms\tremaining: 2.48s\n",
      "28:\tlearn: 0.2439064\ttotal: 420ms\tremaining: 2.47s\n",
      "29:\tlearn: 0.2418391\ttotal: 438ms\tremaining: 2.48s\n",
      "30:\tlearn: 0.2398043\ttotal: 458ms\tremaining: 2.49s\n",
      "31:\tlearn: 0.2374585\ttotal: 472ms\tremaining: 2.48s\n",
      "32:\tlearn: 0.2333994\ttotal: 484ms\tremaining: 2.45s\n",
      "33:\tlearn: 0.2314548\ttotal: 499ms\tremaining: 2.43s\n",
      "34:\tlearn: 0.2290279\ttotal: 513ms\tremaining: 2.42s\n",
      "35:\tlearn: 0.2279818\ttotal: 527ms\tremaining: 2.4s\n",
      "36:\tlearn: 0.2243955\ttotal: 541ms\tremaining: 2.38s\n",
      "37:\tlearn: 0.2198751\ttotal: 555ms\tremaining: 2.37s\n",
      "38:\tlearn: 0.2174476\ttotal: 570ms\tremaining: 2.35s\n",
      "39:\tlearn: 0.2152902\ttotal: 585ms\tremaining: 2.34s\n",
      "40:\tlearn: 0.2120027\ttotal: 600ms\tremaining: 2.33s\n",
      "41:\tlearn: 0.2091527\ttotal: 615ms\tremaining: 2.31s\n",
      "42:\tlearn: 0.2066009\ttotal: 632ms\tremaining: 2.31s\n",
      "43:\tlearn: 0.2049520\ttotal: 650ms\tremaining: 2.3s\n",
      "44:\tlearn: 0.2033906\ttotal: 665ms\tremaining: 2.29s\n",
      "45:\tlearn: 0.2009181\ttotal: 679ms\tremaining: 2.27s\n",
      "46:\tlearn: 0.1991193\ttotal: 694ms\tremaining: 2.26s\n",
      "47:\tlearn: 0.1974285\ttotal: 709ms\tremaining: 2.24s\n",
      "48:\tlearn: 0.1954472\ttotal: 723ms\tremaining: 2.23s\n",
      "49:\tlearn: 0.1932339\ttotal: 738ms\tremaining: 2.21s\n",
      "50:\tlearn: 0.1918039\ttotal: 755ms\tremaining: 2.21s\n",
      "51:\tlearn: 0.1897122\ttotal: 770ms\tremaining: 2.19s\n",
      "52:\tlearn: 0.1878735\ttotal: 786ms\tremaining: 2.18s\n",
      "53:\tlearn: 0.1859960\ttotal: 800ms\tremaining: 2.16s\n",
      "54:\tlearn: 0.1845109\ttotal: 815ms\tremaining: 2.15s\n",
      "55:\tlearn: 0.1835218\ttotal: 829ms\tremaining: 2.13s\n",
      "56:\tlearn: 0.1813580\ttotal: 850ms\tremaining: 2.13s\n",
      "57:\tlearn: 0.1798281\ttotal: 865ms\tremaining: 2.12s\n",
      "58:\tlearn: 0.1784837\ttotal: 879ms\tremaining: 2.1s\n",
      "59:\tlearn: 0.1767228\ttotal: 894ms\tremaining: 2.08s\n",
      "60:\tlearn: 0.1747426\ttotal: 908ms\tremaining: 2.07s\n",
      "61:\tlearn: 0.1729169\ttotal: 923ms\tremaining: 2.05s\n",
      "62:\tlearn: 0.1719944\ttotal: 937ms\tremaining: 2.04s\n",
      "63:\tlearn: 0.1713221\ttotal: 951ms\tremaining: 2.02s\n",
      "64:\tlearn: 0.1676851\ttotal: 965ms\tremaining: 2s\n",
      "65:\tlearn: 0.1666634\ttotal: 978ms\tremaining: 1.99s\n",
      "66:\tlearn: 0.1648230\ttotal: 992ms\tremaining: 1.97s\n",
      "67:\tlearn: 0.1639906\ttotal: 1.01s\tremaining: 1.95s\n",
      "68:\tlearn: 0.1621772\ttotal: 1.02s\tremaining: 1.94s\n",
      "69:\tlearn: 0.1600408\ttotal: 1.04s\tremaining: 1.94s\n",
      "70:\tlearn: 0.1591685\ttotal: 1.07s\tremaining: 1.94s\n",
      "71:\tlearn: 0.1582481\ttotal: 1.09s\tremaining: 1.94s\n",
      "72:\tlearn: 0.1573422\ttotal: 1.11s\tremaining: 1.93s\n",
      "73:\tlearn: 0.1549564\ttotal: 1.13s\tremaining: 1.92s\n",
      "74:\tlearn: 0.1536382\ttotal: 1.15s\tremaining: 1.92s\n",
      "75:\tlearn: 0.1525590\ttotal: 1.17s\tremaining: 1.91s\n",
      "76:\tlearn: 0.1507070\ttotal: 1.24s\tremaining: 1.98s\n",
      "77:\tlearn: 0.1496628\ttotal: 1.28s\tremaining: 2s\n",
      "78:\tlearn: 0.1476420\ttotal: 1.32s\tremaining: 2.02s\n",
      "79:\tlearn: 0.1453273\ttotal: 1.35s\tremaining: 2.03s\n",
      "80:\tlearn: 0.1449068\ttotal: 1.38s\tremaining: 2.02s\n",
      "81:\tlearn: 0.1441706\ttotal: 1.39s\tremaining: 2.01s\n",
      "82:\tlearn: 0.1426580\ttotal: 1.42s\tremaining: 2s\n",
      "83:\tlearn: 0.1412345\ttotal: 1.43s\tremaining: 1.98s\n",
      "84:\tlearn: 0.1395757\ttotal: 1.45s\tremaining: 1.97s\n",
      "85:\tlearn: 0.1388932\ttotal: 1.47s\tremaining: 1.95s\n",
      "86:\tlearn: 0.1372115\ttotal: 1.49s\tremaining: 1.94s\n",
      "87:\tlearn: 0.1346817\ttotal: 1.52s\tremaining: 1.93s\n",
      "88:\tlearn: 0.1332912\ttotal: 1.54s\tremaining: 1.92s\n",
      "89:\tlearn: 0.1321211\ttotal: 1.55s\tremaining: 1.9s\n",
      "90:\tlearn: 0.1309559\ttotal: 1.57s\tremaining: 1.89s\n",
      "91:\tlearn: 0.1292327\ttotal: 1.59s\tremaining: 1.87s\n",
      "92:\tlearn: 0.1284798\ttotal: 1.61s\tremaining: 1.86s\n",
      "93:\tlearn: 0.1273725\ttotal: 1.64s\tremaining: 1.84s\n",
      "94:\tlearn: 0.1257639\ttotal: 1.65s\tremaining: 1.83s\n",
      "95:\tlearn: 0.1251770\ttotal: 1.67s\tremaining: 1.81s\n",
      "96:\tlearn: 0.1233310\ttotal: 1.69s\tremaining: 1.79s\n",
      "97:\tlearn: 0.1223641\ttotal: 1.71s\tremaining: 1.78s\n",
      "98:\tlearn: 0.1218627\ttotal: 1.74s\tremaining: 1.77s\n",
      "99:\tlearn: 0.1205134\ttotal: 1.76s\tremaining: 1.76s\n",
      "100:\tlearn: 0.1193128\ttotal: 1.78s\tremaining: 1.74s\n",
      "101:\tlearn: 0.1183755\ttotal: 1.8s\tremaining: 1.73s\n",
      "102:\tlearn: 0.1170359\ttotal: 1.81s\tremaining: 1.71s\n",
      "103:\tlearn: 0.1159149\ttotal: 1.83s\tremaining: 1.69s\n",
      "104:\tlearn: 0.1151366\ttotal: 1.85s\tremaining: 1.67s\n",
      "105:\tlearn: 0.1138021\ttotal: 1.86s\tremaining: 1.65s\n",
      "106:\tlearn: 0.1132166\ttotal: 1.88s\tremaining: 1.63s\n",
      "107:\tlearn: 0.1121424\ttotal: 1.9s\tremaining: 1.61s\n",
      "108:\tlearn: 0.1112252\ttotal: 1.91s\tremaining: 1.6s\n",
      "109:\tlearn: 0.1098921\ttotal: 1.93s\tremaining: 1.58s\n",
      "110:\tlearn: 0.1092750\ttotal: 1.95s\tremaining: 1.56s\n",
      "111:\tlearn: 0.1083098\ttotal: 1.97s\tremaining: 1.55s\n",
      "112:\tlearn: 0.1075007\ttotal: 1.99s\tremaining: 1.53s\n",
      "113:\tlearn: 0.1062631\ttotal: 2s\tremaining: 1.51s\n",
      "114:\tlearn: 0.1055822\ttotal: 2.02s\tremaining: 1.49s\n",
      "115:\tlearn: 0.1041137\ttotal: 2.03s\tremaining: 1.47s\n",
      "116:\tlearn: 0.1035043\ttotal: 2.05s\tremaining: 1.45s\n",
      "117:\tlearn: 0.1025105\ttotal: 2.06s\tremaining: 1.43s\n",
      "118:\tlearn: 0.1021765\ttotal: 2.08s\tremaining: 1.41s\n",
      "119:\tlearn: 0.1013742\ttotal: 2.09s\tremaining: 1.39s\n",
      "120:\tlearn: 0.1008606\ttotal: 2.1s\tremaining: 1.37s\n",
      "121:\tlearn: 0.1005058\ttotal: 2.12s\tremaining: 1.35s\n",
      "122:\tlearn: 0.1002036\ttotal: 2.14s\tremaining: 1.34s\n",
      "123:\tlearn: 0.0988613\ttotal: 2.16s\tremaining: 1.32s\n",
      "124:\tlearn: 0.0983909\ttotal: 2.17s\tremaining: 1.3s\n",
      "125:\tlearn: 0.0974835\ttotal: 2.19s\tremaining: 1.28s\n",
      "126:\tlearn: 0.0964272\ttotal: 2.2s\tremaining: 1.26s\n",
      "127:\tlearn: 0.0960116\ttotal: 2.22s\tremaining: 1.25s\n",
      "128:\tlearn: 0.0951916\ttotal: 2.23s\tremaining: 1.23s\n",
      "129:\tlearn: 0.0949047\ttotal: 2.25s\tremaining: 1.21s\n",
      "130:\tlearn: 0.0944126\ttotal: 2.26s\tremaining: 1.19s\n",
      "131:\tlearn: 0.0939032\ttotal: 2.27s\tremaining: 1.17s\n",
      "132:\tlearn: 0.0935706\ttotal: 2.29s\tremaining: 1.15s\n",
      "133:\tlearn: 0.0923892\ttotal: 2.3s\tremaining: 1.13s\n",
      "134:\tlearn: 0.0916466\ttotal: 2.32s\tremaining: 1.12s\n",
      "135:\tlearn: 0.0912948\ttotal: 2.33s\tremaining: 1.1s\n",
      "136:\tlearn: 0.0907544\ttotal: 2.35s\tremaining: 1.08s\n",
      "137:\tlearn: 0.0904686\ttotal: 2.37s\tremaining: 1.06s\n",
      "138:\tlearn: 0.0892191\ttotal: 2.38s\tremaining: 1.05s\n",
      "139:\tlearn: 0.0887913\ttotal: 2.4s\tremaining: 1.03s\n",
      "140:\tlearn: 0.0880786\ttotal: 2.41s\tremaining: 1.01s\n",
      "141:\tlearn: 0.0874625\ttotal: 2.43s\tremaining: 992ms\n",
      "142:\tlearn: 0.0870128\ttotal: 2.44s\tremaining: 974ms\n",
      "143:\tlearn: 0.0865471\ttotal: 2.46s\tremaining: 955ms\n",
      "144:\tlearn: 0.0857078\ttotal: 2.47s\tremaining: 937ms\n",
      "145:\tlearn: 0.0848965\ttotal: 2.49s\tremaining: 920ms\n",
      "146:\tlearn: 0.0846872\ttotal: 2.5s\tremaining: 902ms\n",
      "147:\tlearn: 0.0837035\ttotal: 2.52s\tremaining: 884ms\n",
      "148:\tlearn: 0.0830456\ttotal: 2.53s\tremaining: 866ms\n",
      "149:\tlearn: 0.0827506\ttotal: 2.54s\tremaining: 848ms\n",
      "150:\tlearn: 0.0821981\ttotal: 2.56s\tremaining: 831ms\n",
      "151:\tlearn: 0.0817002\ttotal: 2.58s\tremaining: 815ms\n",
      "152:\tlearn: 0.0812126\ttotal: 2.59s\tremaining: 797ms\n",
      "153:\tlearn: 0.0806775\ttotal: 2.61s\tremaining: 779ms\n",
      "154:\tlearn: 0.0803501\ttotal: 2.62s\tremaining: 762ms\n",
      "155:\tlearn: 0.0795815\ttotal: 2.64s\tremaining: 744ms\n",
      "156:\tlearn: 0.0793531\ttotal: 2.65s\tremaining: 727ms\n",
      "157:\tlearn: 0.0788937\ttotal: 2.67s\tremaining: 710ms\n",
      "158:\tlearn: 0.0780879\ttotal: 2.68s\tremaining: 692ms\n",
      "159:\tlearn: 0.0777692\ttotal: 2.7s\tremaining: 675ms\n",
      "160:\tlearn: 0.0772293\ttotal: 2.72s\tremaining: 658ms\n",
      "161:\tlearn: 0.0765697\ttotal: 2.74s\tremaining: 642ms\n",
      "162:\tlearn: 0.0757356\ttotal: 2.75s\tremaining: 624ms\n"
     ]
    },
    {
     "name": "stdout",
     "output_type": "stream",
     "text": [
      "163:\tlearn: 0.0755363\ttotal: 2.77s\tremaining: 608ms\n",
      "164:\tlearn: 0.0748267\ttotal: 2.8s\tremaining: 594ms\n",
      "165:\tlearn: 0.0743317\ttotal: 2.82s\tremaining: 578ms\n",
      "166:\tlearn: 0.0738719\ttotal: 2.84s\tremaining: 562ms\n",
      "167:\tlearn: 0.0733567\ttotal: 2.87s\tremaining: 546ms\n",
      "168:\tlearn: 0.0729171\ttotal: 2.89s\tremaining: 531ms\n",
      "169:\tlearn: 0.0726992\ttotal: 2.93s\tremaining: 517ms\n",
      "170:\tlearn: 0.0724125\ttotal: 2.96s\tremaining: 502ms\n",
      "171:\tlearn: 0.0719369\ttotal: 2.98s\tremaining: 486ms\n",
      "172:\tlearn: 0.0715359\ttotal: 3s\tremaining: 469ms\n",
      "173:\tlearn: 0.0710075\ttotal: 3.02s\tremaining: 452ms\n",
      "174:\tlearn: 0.0704084\ttotal: 3.04s\tremaining: 435ms\n",
      "175:\tlearn: 0.0700266\ttotal: 3.06s\tremaining: 418ms\n",
      "176:\tlearn: 0.0697832\ttotal: 3.08s\tremaining: 401ms\n",
      "177:\tlearn: 0.0695567\ttotal: 3.1s\tremaining: 384ms\n",
      "178:\tlearn: 0.0692029\ttotal: 3.13s\tremaining: 367ms\n",
      "179:\tlearn: 0.0689097\ttotal: 3.15s\tremaining: 350ms\n",
      "180:\tlearn: 0.0682604\ttotal: 3.16s\tremaining: 332ms\n",
      "181:\tlearn: 0.0679888\ttotal: 3.18s\tremaining: 315ms\n",
      "182:\tlearn: 0.0676380\ttotal: 3.2s\tremaining: 297ms\n",
      "183:\tlearn: 0.0673653\ttotal: 3.22s\tremaining: 280ms\n",
      "184:\tlearn: 0.0668169\ttotal: 3.23s\tremaining: 262ms\n",
      "185:\tlearn: 0.0666359\ttotal: 3.25s\tremaining: 244ms\n",
      "186:\tlearn: 0.0661228\ttotal: 3.26s\tremaining: 227ms\n",
      "187:\tlearn: 0.0657875\ttotal: 3.28s\tremaining: 209ms\n",
      "188:\tlearn: 0.0655442\ttotal: 3.29s\tremaining: 192ms\n",
      "189:\tlearn: 0.0647366\ttotal: 3.31s\tremaining: 174ms\n",
      "190:\tlearn: 0.0644484\ttotal: 3.32s\tremaining: 156ms\n",
      "191:\tlearn: 0.0643516\ttotal: 3.33s\tremaining: 139ms\n",
      "192:\tlearn: 0.0639342\ttotal: 3.35s\tremaining: 121ms\n",
      "193:\tlearn: 0.0635008\ttotal: 3.36s\tremaining: 104ms\n",
      "194:\tlearn: 0.0632988\ttotal: 3.38s\tremaining: 86.6ms\n",
      "195:\tlearn: 0.0629686\ttotal: 3.39s\tremaining: 69.3ms\n",
      "196:\tlearn: 0.0626734\ttotal: 3.41s\tremaining: 52ms\n",
      "197:\tlearn: 0.0623525\ttotal: 3.43s\tremaining: 34.7ms\n",
      "198:\tlearn: 0.0620782\ttotal: 3.45s\tremaining: 17.3ms\n",
      "199:\tlearn: 0.0618976\ttotal: 3.46s\tremaining: 0us\n",
      "              precision    recall  f1-score   support\n",
      "\n",
      "           0       0.99      0.98      0.98      1039\n",
      "           1       0.98      0.99      0.98      1041\n",
      "\n",
      "    accuracy                           0.98      2080\n",
      "   macro avg       0.98      0.98      0.98      2080\n",
      "weighted avg       0.98      0.98      0.98      2080\n",
      "\n"
     ]
    }
   ],
   "source": [
    "model_6 = CatBoostClassifier(iterations=200)\n",
    "model_6.fit(X_train,Y_train)\n",
    "pred_6 = model_5.predict(x_test)\n",
    "cr6    = classification_report(y_test,pred_5)\n",
    "print(cr6)"
   ]
  },
  {
   "cell_type": "code",
   "execution_count": 132,
   "metadata": {},
   "outputs": [
    {
     "data": {
      "text/plain": [
       "0.9846153846153847"
      ]
     },
     "execution_count": 132,
     "metadata": {},
     "output_type": "execute_result"
    }
   ],
   "source": [
    "accuracy(pred_6,y_test)"
   ]
  },
  {
   "cell_type": "markdown",
   "metadata": {},
   "source": [
    "## SVM"
   ]
  },
  {
   "cell_type": "code",
   "execution_count": 133,
   "metadata": {},
   "outputs": [
    {
     "name": "stdout",
     "output_type": "stream",
     "text": [
      "              precision    recall  f1-score   support\n",
      "\n",
      "           0       0.69      0.02      0.03      1039\n",
      "           1       0.50      0.99      0.67      1041\n",
      "\n",
      "    accuracy                           0.51      2080\n",
      "   macro avg       0.60      0.50      0.35      2080\n",
      "weighted avg       0.60      0.51      0.35      2080\n",
      "\n"
     ]
    },
    {
     "name": "stderr",
     "output_type": "stream",
     "text": [
      "/Users/vw12/opt/anaconda3/lib/python3.7/site-packages/sklearn/svm/_base.py:947: ConvergenceWarning: Liblinear failed to converge, increase the number of iterations.\n",
      "  \"the number of iterations.\", ConvergenceWarning)\n"
     ]
    }
   ],
   "source": [
    "model_7=LinearSVC()\n",
    "model_7.fit(x_train,y_train)\n",
    "pred_7 = model_7.predict(x_test)\n",
    "cr7    = classification_report(y_test,pred_7)\n",
    "print(cr7)"
   ]
  },
  {
   "cell_type": "code",
   "execution_count": 135,
   "metadata": {},
   "outputs": [
    {
     "data": {
      "text/plain": [
       "0.5052884615384615"
      ]
     },
     "execution_count": 135,
     "metadata": {},
     "output_type": "execute_result"
    }
   ],
   "source": [
    "accuracy(pred_7,y_test)"
   ]
  },
  {
   "cell_type": "markdown",
   "metadata": {
    "papermill": {
     "duration": 0.039666,
     "end_time": "2021-04-24T06:10:48.090710",
     "exception": false,
     "start_time": "2021-04-24T06:10:48.051044",
     "status": "completed"
    },
    "tags": []
   },
   "source": [
    "**7. Le modèle LSTM**\n",
    "Dans ce modèle\n",
    "- 1.) Les valeurs du vecteur feature embedding = 40 qui sont des vecteurs de features cibles pour la couche embledding. \n",
    "- 2.) Une couche LSTM avec 100 nœuds est utilisée. \n",
    "- 3) Une couche dense avec 1 neurone et une fonction d'activation sigmoïde est utilisée car il s'agit d'un problème de classification binaire. \n",
    "- 4) La technique de Dropout est utilisée pour éviter la surcharge et l'optimiseur Adam est utilisé pour optimiser la fonction de perte.\n",
    "\n"
   ]
  },
  {
   "cell_type": "code",
   "execution_count": 138,
   "metadata": {
    "execution": {
     "iopub.execute_input": "2021-04-24T06:10:48.173538Z",
     "iopub.status.busy": "2021-04-24T06:10:48.172991Z",
     "iopub.status.idle": "2021-04-24T06:10:52.521541Z",
     "shell.execute_reply": "2021-04-24T06:10:52.520930Z"
    },
    "papermill": {
     "duration": 4.391849,
     "end_time": "2021-04-24T06:10:52.521714",
     "exception": false,
     "start_time": "2021-04-24T06:10:48.129865",
     "status": "completed"
    },
    "tags": []
   },
   "outputs": [
    {
     "name": "stdout",
     "output_type": "stream",
     "text": [
      "Model: \"sequential_2\"\n",
      "_________________________________________________________________\n",
      "Layer (type)                 Output Shape              Param #   \n",
      "=================================================================\n",
      "embedding_2 (Embedding)      (None, 20, 40)            200000    \n",
      "_________________________________________________________________\n",
      "dropout_4 (Dropout)          (None, 20, 40)            0         \n",
      "_________________________________________________________________\n",
      "lstm_2 (LSTM)                (None, 100)               56400     \n",
      "_________________________________________________________________\n",
      "dropout_5 (Dropout)          (None, 100)               0         \n",
      "_________________________________________________________________\n",
      "dense_2 (Dense)              (None, 64)                6464      \n",
      "_________________________________________________________________\n",
      "dropout_6 (Dropout)          (None, 64)                0         \n",
      "_________________________________________________________________\n",
      "dense_3 (Dense)              (None, 1)                 65        \n",
      "=================================================================\n",
      "Total params: 262,929\n",
      "Trainable params: 262,929\n",
      "Non-trainable params: 0\n",
      "_________________________________________________________________\n",
      "None\n"
     ]
    }
   ],
   "source": [
    "# Création du modèle  LSTM Model pour la prediction\n",
    "embedding_feature_vector = 40\n",
    "model = Sequential()\n",
    "model.add(Embedding(vocab_size,embedding_feature_vector,input_length=sent_length))\n",
    "model.add(Dropout(0.3))\n",
    "model.add(LSTM(100))\n",
    "model.add(Dropout(0.3))\n",
    "model.add(Dense(64,activation='relu'))\n",
    "model.add(Dropout(0.3))\n",
    "model.add(Dense(1,activation='sigmoid'))\n",
    "model.compile(loss='binary_crossentropy',optimizer='adam',metrics=['accuracy'])\n",
    "print(model.summary())"
   ]
  },
  {
   "cell_type": "code",
   "execution_count": 139,
   "metadata": {
    "execution": {
     "iopub.execute_input": "2021-04-24T06:10:52.604156Z",
     "iopub.status.busy": "2021-04-24T06:10:52.603529Z",
     "iopub.status.idle": "2021-04-24T06:11:23.118921Z",
     "shell.execute_reply": "2021-04-24T06:11:23.119348Z"
    },
    "papermill": {
     "duration": 30.559349,
     "end_time": "2021-04-24T06:11:23.119577",
     "exception": false,
     "start_time": "2021-04-24T06:10:52.560228",
     "status": "completed"
    },
    "tags": []
   },
   "outputs": [],
   "source": [
    "from tensorflow.keras.callbacks import EarlyStopping,ModelCheckpoint\n",
    "early_stop = EarlyStopping(monitor='val_loss',mode='min', verbose=0,patience=50,restore_best_weights=True)\n",
    "\n",
    "earlystop = EarlyStopping(monitor='val_loss', mode='min', verbose=0, patience=2)\n",
    "save= ModelCheckpoint('best_model.h5', monitor='val_accuracy', mode='max', verbose=0, save_best_only=True)\n",
    "\n",
    "\n",
    "training=model.fit(X_train, Y_train,epochs=100,verbose=0,batch_size=64,\n",
    "                   validation_data=(x_valid,y_valid),callbacks=[early_stop,save])\n",
    "\n",
    "#model.fit(X_train,Y_train,validation_data=(x_valid,y_valid),epochs=10,batch_size=64)"
   ]
  },
  {
   "cell_type": "code",
   "execution_count": 140,
   "metadata": {},
   "outputs": [
    {
     "data": {
      "image/png": "[encoded data removed]",
      "text/plain": [
       "<Figure size 432x288 with 1 Axes>"
      ]
     },
     "metadata": {
      "needs_background": "light"
     },
     "output_type": "display_data"
    }
   ],
   "source": [
    "import matplotlib.pyplot as plt\n",
    "plt.plot(training.history['accuracy'], label='accuracy')\n",
    "plt.plot(training.history['val_accuracy'], label = 'val_accuracy')\n",
    "plt.xlabel('Epoch')\n",
    "plt.ylabel('Accuracy')\n",
    "#plt.ylim([0., 1])\n",
    "plt.legend(loc='lower right')\n",
    "#plt.legend(['Train', 'Test'], loc='upper left')\n",
    "plt.show()"
   ]
  },
  {
   "cell_type": "code",
   "execution_count": 145,
   "metadata": {},
   "outputs": [
    {
     "name": "stdout",
     "output_type": "stream",
     "text": [
      "65/65 [==============================] - 1s 7ms/step - loss: 0.0310 - accuracy: 0.9899\n",
      " loss train accuracy:  1.89%\n",
      " train accuracy: 99.44%\n",
      "************************************************************\n",
      " loss test  accuracy:  3.10%\n",
      " test  accuracy: 98.99%\n"
     ]
    }
   ],
   "source": [
    "# load the saved model\n",
    "\n",
    "#modele = load_model('best_model.h5')\n",
    "loss,acc = model.evaluate(x_test,  y_test, verbose=1)\n",
    "train_loss, train_acc = model.evaluate(X_train, Y_train, verbose=0)\n",
    "\n",
    "print(\" loss train accuracy: {:5.2f}%\".format(100*train_loss))\n",
    "print(\" train accuracy: {:5.2f}%\".format(100*train_acc))\n",
    "print(\"**\"*30)\n",
    "print(\" loss test  accuracy: {:5.2f}%\".format(100*loss))\n",
    "print(\" test  accuracy: {:5.2f}%\".format(100*acc))\n"
   ]
  },
  {
   "cell_type": "code",
   "execution_count": 146,
   "metadata": {
    "execution": {
     "iopub.execute_input": "2021-04-24T06:11:23.466355Z",
     "iopub.status.busy": "2021-04-24T06:11:23.465724Z",
     "iopub.status.idle": "2021-04-24T06:11:23.982124Z",
     "shell.execute_reply": "2021-04-24T06:11:23.981162Z"
    },
    "papermill": {
     "duration": 0.691541,
     "end_time": "2021-04-24T06:11:23.982274",
     "exception": false,
     "start_time": "2021-04-24T06:11:23.290733",
     "status": "completed"
    },
    "tags": []
   },
   "outputs": [
    {
     "name": "stderr",
     "output_type": "stream",
     "text": [
      "/Users/vw12/opt/anaconda3/lib/python3.7/site-packages/tensorflow/python/keras/engine/sequential.py:450: UserWarning: `model.predict_classes()` is deprecated and will be removed after 2021-01-01. Please use instead:* `np.argmax(model.predict(x), axis=-1)`,   if your model does multi-class classification   (e.g. if it uses a `softmax` last-layer activation).* `(model.predict(x) > 0.5).astype(\"int32\")`,   if your model does binary classification   (e.g. if it uses a `sigmoid` last-layer activation).\n",
      "  warnings.warn('`model.predict_classes()` is deprecated and '\n"
     ]
    },
    {
     "name": "stdout",
     "output_type": "stream",
     "text": [
      "              precision    recall  f1-score   support\n",
      "\n",
      "           0       0.99      0.99      0.99      1039\n",
      "           1       0.99      0.99      0.99      1041\n",
      "\n",
      "    accuracy                           0.99      2080\n",
      "   macro avg       0.99      0.99      0.99      2080\n",
      "weighted avg       0.99      0.99      0.99      2080\n",
      "\n"
     ]
    }
   ],
   "source": [
    "predictions = model.predict_classes(x_test)\n",
    "cr = classification_report(y_test,predictions)\n",
    "print(cr)"
   ]
  },
  {
   "cell_type": "markdown",
   "metadata": {},
   "source": [
    "## le modèle de BI-LSTM : bidirectionnel"
   ]
  },
  {
   "cell_type": "code",
   "execution_count": 148,
   "metadata": {},
   "outputs": [
    {
     "name": "stdout",
     "output_type": "stream",
     "text": [
      "Model: \"sequential_4\"\n",
      "_________________________________________________________________\n",
      "Layer (type)                 Output Shape              Param #   \n",
      "=================================================================\n",
      "embedding_3 (Embedding)      (None, 20, 40)            200000    \n",
      "_________________________________________________________________\n",
      "dropout_7 (Dropout)          (None, 20, 40)            0         \n",
      "_________________________________________________________________\n",
      "bidirectional (Bidirectional (None, 200)               112800    \n",
      "_________________________________________________________________\n",
      "dropout_8 (Dropout)          (None, 200)               0         \n",
      "_________________________________________________________________\n",
      "dense_4 (Dense)              (None, 64)                12864     \n",
      "_________________________________________________________________\n",
      "dropout_9 (Dropout)          (None, 64)                0         \n",
      "_________________________________________________________________\n",
      "dense_5 (Dense)              (None, 1)                 65        \n",
      "=================================================================\n",
      "Total params: 325,729\n",
      "Trainable params: 325,729\n",
      "Non-trainable params: 0\n",
      "_________________________________________________________________\n",
      "None\n"
     ]
    }
   ],
   "source": [
    "# Building an LSTM Model with an embedding layer #\n",
    "model1 = Sequential()\n",
    "model1.add(Embedding(vocab_size,embedding_feature_vector,input_length=sent_length))\n",
    "model1.add(Dropout(0.3))\n",
    "model1.add(Bidirectional(LSTM(100)))  # 100 memory cells / Neurons \n",
    "model1.add(Dropout(0.3))\n",
    "model1.add(Dense(64,activation='relu'))\n",
    "model1.add(Dropout(0.3))\n",
    "model1.add(Dense(1,activation='sigmoid'))  # sigmoid will help in classifying news as fake or real\n",
    "model1.compile(loss='binary_crossentropy',optimizer='adam',metrics=['accuracy'])\n",
    "print(model1.summary())"
   ]
  },
  {
   "cell_type": "code",
   "execution_count": 149,
   "metadata": {},
   "outputs": [],
   "source": [
    "from tensorflow.keras.callbacks import EarlyStopping,ModelCheckpoint\n",
    "early_stop = EarlyStopping(monitor='val_loss',mode='min', verbose=0,patience=50,restore_best_weights=True)\n",
    "\n",
    "earlystop = EarlyStopping(monitor='val_loss', mode='min', verbose=0, patience=2)\n",
    "save= ModelCheckpoint('best_model_bi_direction.h5', monitor='val_accuracy', mode='max', verbose=0, save_best_only=True)\n",
    "\n",
    "\n",
    "training=model1.fit(X_train, Y_train,epochs=100,verbose=0,batch_size=64,\n",
    "                   validation_data=(x_valid,y_valid),callbacks=[early_stop,save])\n",
    "\n",
    "#model.fit(X_train,Y_train,validation_data=(x_valid,y_valid),epochs=10,batch_size=64)"
   ]
  },
  {
   "cell_type": "code",
   "execution_count": 151,
   "metadata": {},
   "outputs": [
    {
     "data": {
      "image/png": "[encoded data removed]",
      "text/plain": [
       "<Figure size 432x288 with 1 Axes>"
      ]
     },
     "metadata": {
      "needs_background": "light"
     },
     "output_type": "display_data"
    }
   ],
   "source": [
    "import matplotlib.pyplot as plt\n",
    "plt.plot(training.history['accuracy'], label='accuracy')\n",
    "plt.plot(training.history['val_accuracy'], label = 'val_accuracy')\n",
    "plt.xlabel('Epoch')\n",
    "plt.ylabel('Accuracy')\n",
    "#plt.ylim([0., 1])\n",
    "plt.legend(loc='lower right')\n",
    "#plt.legend(['Train', 'Test'], loc='upper left')\n",
    "plt.show()"
   ]
  },
  {
   "cell_type": "code",
   "execution_count": 150,
   "metadata": {},
   "outputs": [
    {
     "name": "stdout",
     "output_type": "stream",
     "text": [
      "65/65 [==============================] - 2s 9ms/step - loss: 0.0357 - accuracy: 0.9885\n",
      " loss train accuracy:  1.40%\n",
      " train accuracy: 99.60%\n",
      "************************************************************\n",
      " loss test  accuracy:  3.57%\n",
      " test  accuracy: 98.85%\n"
     ]
    }
   ],
   "source": [
    "# load the saved model\n",
    "\n",
    "#modele = load_model('best_model.h5')\n",
    "loss,acc = model1.evaluate(x_test,  y_test, verbose=1)\n",
    "train_loss, train_acc = model1.evaluate(X_train, Y_train, verbose=0)\n",
    "\n",
    "print(\" loss train accuracy: {:5.2f}%\".format(100*train_loss))\n",
    "print(\" train accuracy: {:5.2f}%\".format(100*train_acc))\n",
    "print(\"**\"*30)\n",
    "print(\" loss test  accuracy: {:5.2f}%\".format(100*loss))\n",
    "print(\" test  accuracy: {:5.2f}%\".format(100*acc))\n"
   ]
  },
  {
   "cell_type": "code",
   "execution_count": 153,
   "metadata": {},
   "outputs": [
    {
     "name": "stdout",
     "output_type": "stream",
     "text": [
      "              precision    recall  f1-score   support\n",
      "\n",
      "           0       0.99      0.99      0.99      1039\n",
      "           1       0.99      0.99      0.99      1041\n",
      "\n",
      "    accuracy                           0.99      2080\n",
      "   macro avg       0.99      0.99      0.99      2080\n",
      "weighted avg       0.99      0.99      0.99      2080\n",
      "\n"
     ]
    }
   ],
   "source": [
    "predictions_bi = model1.predict_classes(x_test)\n",
    "cr8 = classification_report(y_test,predictions_bi)\n",
    "print(cr8)"
   ]
  },
  {
   "cell_type": "markdown",
   "metadata": {
    "papermill": {
     "duration": 0.174951,
     "end_time": "2021-04-24T06:11:24.334811",
     "exception": false,
     "start_time": "2021-04-24T06:11:24.159860",
     "status": "completed"
    },
    "tags": []
   },
   "source": [
    "# Evaluation of Models"
   ]
  },
  {
   "cell_type": "markdown",
   "metadata": {
    "papermill": {
     "duration": 0.178314,
     "end_time": "2021-04-24T06:11:24.683085",
     "exception": false,
     "start_time": "2021-04-24T06:11:24.504771",
     "status": "completed"
    },
    "tags": []
   },
   "source": [
    "**Tabulating the results of various implemented models.**"
   ]
  },
  {
   "cell_type": "code",
   "execution_count": 157,
   "metadata": {
    "execution": {
     "iopub.execute_input": "2021-04-24T06:11:25.053970Z",
     "iopub.status.busy": "2021-04-24T06:11:25.053212Z",
     "iopub.status.idle": "2021-04-24T06:11:25.071010Z",
     "shell.execute_reply": "2021-04-24T06:11:25.070432Z"
    },
    "papermill": {
     "duration": 0.206178,
     "end_time": "2021-04-24T06:11:25.071167",
     "exception": false,
     "start_time": "2021-04-24T06:11:24.864989",
     "status": "completed"
    },
    "tags": []
   },
   "outputs": [
    {
     "data": {
      "text/html": [
       "<div>\n",
       "<style scoped>\n",
       "    .dataframe tbody tr th:only-of-type {\n",
       "        vertical-align: middle;\n",
       "    }\n",
       "\n",
       "    .dataframe tbody tr th {\n",
       "        vertical-align: top;\n",
       "    }\n",
       "\n",
       "    .dataframe thead th {\n",
       "        text-align: right;\n",
       "    }\n",
       "</style>\n",
       "<table border=\"1\" class=\"dataframe\">\n",
       "  <thead>\n",
       "    <tr style=\"text-align: right;\">\n",
       "      <th></th>\n",
       "      <th>Model</th>\n",
       "      <th>Accuracy</th>\n",
       "    </tr>\n",
       "  </thead>\n",
       "  <tbody>\n",
       "    <tr>\n",
       "      <th>0</th>\n",
       "      <td>Logistic Regression</td>\n",
       "      <td>0.726923</td>\n",
       "    </tr>\n",
       "    <tr>\n",
       "      <th>1</th>\n",
       "      <td>Naive Bayes</td>\n",
       "      <td>0.671154</td>\n",
       "    </tr>\n",
       "    <tr>\n",
       "      <th>2</th>\n",
       "      <td>Decision Tree</td>\n",
       "      <td>0.887500</td>\n",
       "    </tr>\n",
       "    <tr>\n",
       "      <th>3</th>\n",
       "      <td>Random Forest</td>\n",
       "      <td>0.910096</td>\n",
       "    </tr>\n",
       "    <tr>\n",
       "      <th>4</th>\n",
       "      <td>XGBOOST</td>\n",
       "      <td>0.984615</td>\n",
       "    </tr>\n",
       "    <tr>\n",
       "      <th>5</th>\n",
       "      <td>CatBoost</td>\n",
       "      <td>0.984615</td>\n",
       "    </tr>\n",
       "    <tr>\n",
       "      <th>6</th>\n",
       "      <td>LSTM</td>\n",
       "      <td>0.989904</td>\n",
       "    </tr>\n",
       "    <tr>\n",
       "      <th>7</th>\n",
       "      <td>BI-LSTM</td>\n",
       "      <td>0.988462</td>\n",
       "    </tr>\n",
       "  </tbody>\n",
       "</table>\n",
       "</div>"
      ],
      "text/plain": [
       "                 Model  Accuracy\n",
       "0  Logistic Regression  0.726923\n",
       "1          Naive Bayes  0.671154\n",
       "2        Decision Tree  0.887500\n",
       "3        Random Forest  0.910096\n",
       "4              XGBOOST  0.984615\n",
       "5             CatBoost  0.984615\n",
       "6                 LSTM  0.989904\n",
       "7              BI-LSTM  0.988462"
      ]
     },
     "execution_count": 157,
     "metadata": {},
     "output_type": "execute_result"
    }
   ],
   "source": [
    "score_1 = accuracy_score(y_test,pred_1)\n",
    "score_2 = accuracy_score(y_test,pred_2)\n",
    "score_3 = accuracy_score(y_test,pred_3)\n",
    "score_4 = accuracy_score(y_test,pred_4)\n",
    "score_5 = accuracy_score(y_test,pred_5)\n",
    "score_6 = accuracy_score(y_test,pred_6)\n",
    "score_7 = accuracy_score(y_test,predictions)\n",
    "score_8 = accuracy_score(y_test,predictions_bi)\n",
    "results = pd.DataFrame([[\"Logistic Regression\",score_1],[\"Naive Bayes\",score_2],[\"Decision Tree\",score_3],\n",
    "                       [\"Random Forest\",score_4],[\"XGBOOST\",score_5],[\"CatBoost\",score_6],[\"LSTM\",score_7],[\"BI-LSTM\",score_8]],columns=[\"Model\",\"Accuracy\"])\n",
    "results"
   ]
  },
  {
   "cell_type": "markdown",
   "metadata": {
    "papermill": {
     "duration": 0.17424,
     "end_time": "2021-04-24T06:11:25.440377",
     "exception": false,
     "start_time": "2021-04-24T06:11:25.266137",
     "status": "completed"
    },
    "tags": []
   },
   "source": [
    "**Discussion : A partir des résultats ci-dessus, il apparaît que le modèle LSTM donne la plus grande précision parmi les différents modèles. Par conséquent, il est sélectionné comme le modèle final pour faire des prédictions sur les données de test finales.**"
   ]
  },
  {
   "cell_type": "markdown",
   "metadata": {
    "papermill": {
     "duration": 0.173499,
     "end_time": "2021-04-24T06:11:25.788093",
     "exception": false,
     "start_time": "2021-04-24T06:11:25.614594",
     "status": "completed"
    },
    "tags": []
   },
   "source": [
    "**Predictions on Testing Data**"
   ]
  },
  {
   "cell_type": "code",
   "execution_count": 155,
   "metadata": {
    "execution": {
     "iopub.execute_input": "2021-04-24T06:11:26.161453Z",
     "iopub.status.busy": "2021-04-24T06:11:26.160513Z",
     "iopub.status.idle": "2021-04-24T06:11:26.874583Z",
     "shell.execute_reply": "2021-04-24T06:11:26.873976Z"
    },
    "papermill": {
     "duration": 0.908815,
     "end_time": "2021-04-24T06:11:26.874728",
     "exception": false,
     "start_time": "2021-04-24T06:11:25.965913",
     "status": "completed"
    },
    "tags": []
   },
   "outputs": [
    {
     "name": "stderr",
     "output_type": "stream",
     "text": [
      "/Users/vw12/opt/anaconda3/lib/python3.7/site-packages/tensorflow/python/keras/engine/sequential.py:450: UserWarning: `model.predict_classes()` is deprecated and will be removed after 2021-01-01. Please use instead:* `np.argmax(model.predict(x), axis=-1)`,   if your model does multi-class classification   (e.g. if it uses a `softmax` last-layer activation).* `(model.predict(x) > 0.5).astype(\"int32\")`,   if your model does binary classification   (e.g. if it uses a `sigmoid` last-layer activation).\n",
      "  warnings.warn('`model.predict_classes()` is deprecated and '\n"
     ]
    }
   ],
   "source": [
    "# Making Predictions on test data\n",
    "predictions_test = pd.DataFrame(model.predict_classes(x_test_final))\n",
    "test_id = pd.DataFrame(test[\"id\"])\n",
    "submission = pd.concat([test_id,predictions_test],axis=1)\n",
    "submission.columns = [\"id\",\"label\"]\n",
    "submission.to_csv(\"Submission.csv\",index=False)"
   ]
  },
  {
   "cell_type": "code",
   "execution_count": 156,
   "metadata": {
    "execution": {
     "iopub.execute_input": "2021-04-24T06:11:27.233542Z",
     "iopub.status.busy": "2021-04-24T06:11:27.232471Z",
     "iopub.status.idle": "2021-04-24T06:11:27.237793Z",
     "shell.execute_reply": "2021-04-24T06:11:27.237266Z"
    },
    "papermill": {
     "duration": 0.187598,
     "end_time": "2021-04-24T06:11:27.237939",
     "exception": false,
     "start_time": "2021-04-24T06:11:27.050341",
     "status": "completed"
    },
    "tags": []
   },
   "outputs": [
    {
     "data": {
      "text/html": [
       "<div>\n",
       "<style scoped>\n",
       "    .dataframe tbody tr th:only-of-type {\n",
       "        vertical-align: middle;\n",
       "    }\n",
       "\n",
       "    .dataframe tbody tr th {\n",
       "        vertical-align: top;\n",
       "    }\n",
       "\n",
       "    .dataframe thead th {\n",
       "        text-align: right;\n",
       "    }\n",
       "</style>\n",
       "<table border=\"1\" class=\"dataframe\">\n",
       "  <thead>\n",
       "    <tr style=\"text-align: right;\">\n",
       "      <th></th>\n",
       "      <th>id</th>\n",
       "      <th>label</th>\n",
       "    </tr>\n",
       "  </thead>\n",
       "  <tbody>\n",
       "    <tr>\n",
       "      <th>0</th>\n",
       "      <td>20800</td>\n",
       "      <td>0</td>\n",
       "    </tr>\n",
       "    <tr>\n",
       "      <th>1</th>\n",
       "      <td>20801</td>\n",
       "      <td>1</td>\n",
       "    </tr>\n",
       "    <tr>\n",
       "      <th>2</th>\n",
       "      <td>20802</td>\n",
       "      <td>1</td>\n",
       "    </tr>\n",
       "    <tr>\n",
       "      <th>3</th>\n",
       "      <td>20803</td>\n",
       "      <td>0</td>\n",
       "    </tr>\n",
       "    <tr>\n",
       "      <th>4</th>\n",
       "      <td>20804</td>\n",
       "      <td>1</td>\n",
       "    </tr>\n",
       "  </tbody>\n",
       "</table>\n",
       "</div>"
      ],
      "text/plain": [
       "      id  label\n",
       "0  20800      0\n",
       "1  20801      1\n",
       "2  20802      1\n",
       "3  20803      0\n",
       "4  20804      1"
      ]
     },
     "execution_count": 156,
     "metadata": {},
     "output_type": "execute_result"
    }
   ],
   "source": [
    "submission.head()"
   ]
  },
  {
   "cell_type": "code",
   "execution_count": null,
   "metadata": {},
   "outputs": [],
   "source": []
  }
 ],
 "metadata": {
  "hide_input": false,
  "kernelspec": {
   "display_name": "Python 3",
   "language": "python",
   "name": "python3"
  },
  "language_info": {
   "codemirror_mode": {
    "name": "ipython",
    "version": 3
   },
   "file_extension": ".py",
   "mimetype": "text/x-python",
   "name": "python",
   "nbconvert_exporter": "python",
   "pygments_lexer": "ipython3",
   "version": "3.7.6"
  },
  "papermill": {
   "default_parameters": {},
   "duration": 132.042273,
   "end_time": "2021-04-24T06:11:31.046934",
   "environment_variables": {},
   "exception": null,
   "input_path": "__notebook__.ipynb",
   "output_path": "__notebook__.ipynb",
   "parameters": {},
   "start_time": "2021-04-24T06:09:19.004661",
   "version": "2.3.3"
  }
 },
 "nbformat": 4,
 "nbformat_minor": 5
}
